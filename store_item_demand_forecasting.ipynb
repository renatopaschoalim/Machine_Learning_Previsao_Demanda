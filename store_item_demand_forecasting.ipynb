{
  "nbformat": 4,
  "nbformat_minor": 0,
  "metadata": {
    "kernelspec": {
      "display_name": "Python 3",
      "language": "python",
      "name": "python3"
    },
    "language_info": {
      "codemirror_mode": {
        "name": "ipython",
        "version": 3
      },
      "file_extension": ".py",
      "mimetype": "text/x-python",
      "name": "python",
      "nbconvert_exporter": "python",
      "pygments_lexer": "ipython3",
      "version": "3.7.9"
    },
    "papermill": {
      "default_parameters": {},
      "duration": 8132.65872,
      "end_time": "2021-02-26T18:17:30.340836",
      "environment_variables": {},
      "exception": null,
      "input_path": "__notebook__.ipynb",
      "output_path": "__notebook__.ipynb",
      "parameters": {},
      "start_time": "2021-02-26T16:01:57.682116",
      "version": "2.2.2"
    },
    "colab": {
      "name": "store-item-demand-forecasting.ipynb",
      "provenance": [],
      "collapsed_sections": [
        "G3bcUJuEqXHe",
        "mYmcRUpcqXHg",
        "oniYqfSUqXHh",
        "2_jHjyxyqXHj",
        "yPxs9nTPqXHk",
        "4EFDFDRqqXHk",
        "hDBdPKEOqXHl",
        "6N4z2YnDqXHl",
        "6mCRrDXAd0L7"
      ],
      "include_colab_link": true
    }
  },
  "cells": [
    {
      "cell_type": "markdown",
      "metadata": {
        "id": "view-in-github",
        "colab_type": "text"
      },
      "source": [
        "<a href=\"https://colab.research.google.com/github/renatopaschoalim/Machine_Learning_Previsao_Demanda/blob/main/store_item_demand_forecasting.ipynb\" target=\"_parent\"><img src=\"https://colab.research.google.com/assets/colab-badge.svg\" alt=\"Open In Colab\"/></a>"
      ]
    },
    {
      "cell_type": "markdown",
      "metadata": {
        "papermill": {
          "duration": 0.044269,
          "end_time": "2021-02-26T16:02:03.604752",
          "exception": false,
          "start_time": "2021-02-26T16:02:03.560483",
          "status": "completed"
        },
        "tags": [],
        "id": "XNtUPO7VqXHQ"
      },
      "source": [
        "# Introdução\n",
        "\n",
        "O objetivo é prever 3 meses a nível de item vendido com dados de diferente loja.\n",
        "\n",
        "Descrição do arquivo:\n",
        "* train.csv             - Dados de Treino\n",
        "* test.csv              - Dados de Teste\n",
        "* sample_submission.csv - Arquivo no formato correto para o envio\n",
        "\n",
        "Campos do arquivo:\n",
        "* date  - Data da venda - Esses dados não tem informação de feriado ou de dia que a loja ficou fechada.\n",
        "* store - Identificação da Loja\n",
        "* item  - Identificação do item\n",
        "* sales - Número de itens vendidos de uma determinada loja e em uma determinada data."
      ]
    },
    {
      "cell_type": "markdown",
      "metadata": {
        "papermill": {
          "duration": 0.042762,
          "end_time": "2021-02-26T16:02:03.689276",
          "exception": false,
          "start_time": "2021-02-26T16:02:03.646514",
          "status": "completed"
        },
        "tags": [],
        "id": "pvc0dHr4qXHV"
      },
      "source": [
        "# 1. Importação das bibliotecas"
      ]
    },
    {
      "cell_type": "code",
      "metadata": {
        "_cell_guid": "b1076dfc-b9ad-4769-8c92-a6c4dae69d19",
        "_uuid": "8f2839f25d086af736a60e9eeb907d3b93b6e0e5",
        "execution": {
          "iopub.execute_input": "2021-02-26T16:02:03.793696Z",
          "iopub.status.busy": "2021-02-26T16:02:03.792811Z",
          "iopub.status.idle": "2021-02-26T16:02:08.975428Z",
          "shell.execute_reply": "2021-02-26T16:02:08.973860Z"
        },
        "papermill": {
          "duration": 5.243802,
          "end_time": "2021-02-26T16:02:08.975663",
          "exception": false,
          "start_time": "2021-02-26T16:02:03.731861",
          "status": "completed"
        },
        "tags": [],
        "id": "78b-i7CBqXHW",
        "colab": {
          "base_uri": "https://localhost:8080/"
        },
        "outputId": "87498109-0195-44cb-8936-b075ff2569eb"
      },
      "source": [
        "# Importação das bibliotecas necessárias\n",
        "import pandas as pd\n",
        "import numpy as np\n",
        "import matplotlib.pyplot as plt\n",
        "import plotly.express as px\n",
        "import seaborn as sns\n",
        "import datetime\n",
        "import warnings\n",
        "from pandas_profiling import ProfileReport\n",
        "from statsmodels.tsa.stattools import pacf, acf\n",
        "from statsmodels.graphics.tsaplots import plot_acf, plot_pacf\n",
        "from statsmodels.tsa.stattools import adfuller, kpss\n",
        "from statsmodels.tsa.seasonal import seasonal_decompose\n",
        "import matplotlib\n",
        "from sklearn.model_selection import train_test_split\n",
        "\n",
        "matplotlib.rcParams['figure.figsize'] = [16, 4]\n",
        "%matplotlib inline\n",
        "warnings.filterwarnings(\"ignore\")\n"
      ],
      "execution_count": 1,
      "outputs": [
        {
          "output_type": "stream",
          "text": [
            "/usr/local/lib/python3.7/dist-packages/statsmodels/tools/_testing.py:19: FutureWarning:\n",
            "\n",
            "pandas.util.testing is deprecated. Use the functions in the public API at pandas.testing instead.\n",
            "\n"
          ],
          "name": "stderr"
        }
      ]
    },
    {
      "cell_type": "code",
      "metadata": {
        "colab": {
          "base_uri": "https://localhost:8080/"
        },
        "id": "KPSi6adLqyYm",
        "outputId": "18c9660b-d863-4c3b-8b5b-9a1ab78b4228"
      },
      "source": [
        "from google.colab import drive\r\n",
        "drive.mount('/content/drive')"
      ],
      "execution_count": 2,
      "outputs": [
        {
          "output_type": "stream",
          "text": [
            "Mounted at /content/drive\n"
          ],
          "name": "stdout"
        }
      ]
    },
    {
      "cell_type": "markdown",
      "metadata": {
        "papermill": {
          "duration": 0.043669,
          "end_time": "2021-02-26T16:02:09.064174",
          "exception": false,
          "start_time": "2021-02-26T16:02:09.020505",
          "status": "completed"
        },
        "tags": [],
        "id": "Cv3fSOqQqXHX"
      },
      "source": [
        "# 2. Importação das bases de dados"
      ]
    },
    {
      "cell_type": "code",
      "metadata": {
        "execution": {
          "iopub.execute_input": "2021-02-26T16:02:09.168199Z",
          "iopub.status.busy": "2021-02-26T16:02:09.167420Z",
          "iopub.status.idle": "2021-02-26T16:02:09.797953Z",
          "shell.execute_reply": "2021-02-26T16:02:09.796767Z"
        },
        "papermill": {
          "duration": 0.689297,
          "end_time": "2021-02-26T16:02:09.798136",
          "exception": false,
          "start_time": "2021-02-26T16:02:09.108839",
          "status": "completed"
        },
        "tags": [],
        "id": "3Fp1VYSVqXHY"
      },
      "source": [
        "# Carregando os dados\n",
        "train = pd.read_csv('/content/drive/MyDrive/Kaggle/Store Item Demand Forecasting Challenge/train.csv', date_parser='date')\n",
        "test = pd.read_csv('/content/drive/MyDrive/Kaggle/Store Item Demand Forecasting Challenge/test.csv', date_parser='date')\n",
        "sample_submission = pd.read_csv('/content/drive/MyDrive/Kaggle/Store Item Demand Forecasting Challenge/sample_submission.csv', date_parser='date')"
      ],
      "execution_count": 3,
      "outputs": []
    },
    {
      "cell_type": "code",
      "metadata": {
        "execution": {
          "iopub.execute_input": "2021-02-26T16:02:09.895690Z",
          "iopub.status.busy": "2021-02-26T16:02:09.894720Z",
          "iopub.status.idle": "2021-02-26T16:02:09.898819Z",
          "shell.execute_reply": "2021-02-26T16:02:09.899331Z"
        },
        "papermill": {
          "duration": 0.057331,
          "end_time": "2021-02-26T16:02:09.899511",
          "exception": false,
          "start_time": "2021-02-26T16:02:09.842180",
          "status": "completed"
        },
        "tags": [],
        "colab": {
          "base_uri": "https://localhost:8080/"
        },
        "id": "6-KlHdgBqXHY",
        "outputId": "36c44b45-7c53-4207-8cee-2011aa264694"
      },
      "source": [
        "# Visualização do shape de cada base de dados carregada\n",
        "train.shape, test.shape, sample_submission.shape"
      ],
      "execution_count": 4,
      "outputs": [
        {
          "output_type": "execute_result",
          "data": {
            "text/plain": [
              "((913000, 4), (45000, 4), (45000, 2))"
            ]
          },
          "metadata": {
            "tags": []
          },
          "execution_count": 4
        }
      ]
    },
    {
      "cell_type": "markdown",
      "metadata": {
        "papermill": {
          "duration": 0.045221,
          "end_time": "2021-02-26T16:02:09.989282",
          "exception": false,
          "start_time": "2021-02-26T16:02:09.944061",
          "status": "completed"
        },
        "tags": [],
        "id": "E62cZh84qXHY"
      },
      "source": [
        "# 3. Análise exploratória dos Dados"
      ]
    },
    {
      "cell_type": "code",
      "metadata": {
        "execution": {
          "iopub.execute_input": "2021-02-26T16:02:10.084450Z",
          "iopub.status.busy": "2021-02-26T16:02:10.083262Z",
          "iopub.status.idle": "2021-02-26T16:02:12.513616Z",
          "shell.execute_reply": "2021-02-26T16:02:12.514274Z"
        },
        "papermill": {
          "duration": 2.480681,
          "end_time": "2021-02-26T16:02:12.514558",
          "exception": false,
          "start_time": "2021-02-26T16:02:10.033877",
          "status": "completed"
        },
        "tags": [],
        "colab": {
          "base_uri": "https://localhost:8080/"
        },
        "id": "VQNojcUrqXHZ",
        "outputId": "7ab915a3-b32d-4355-f6ca-a068233b04c5"
      },
      "source": [
        "# Listar a data minima e máxima de cada transação\n",
        "df_train = train.copy()\n",
        "df_train['date'].sort_values()\n",
        "print(df_train['date'].min())\n",
        "print(df_train['date'].max())"
      ],
      "execution_count": 5,
      "outputs": [
        {
          "output_type": "stream",
          "text": [
            "2013-01-01\n",
            "2017-12-31\n"
          ],
          "name": "stdout"
        }
      ]
    },
    {
      "cell_type": "code",
      "metadata": {
        "execution": {
          "iopub.execute_input": "2021-02-26T16:02:12.627491Z",
          "iopub.status.busy": "2021-02-26T16:02:12.626494Z",
          "iopub.status.idle": "2021-02-26T16:02:12.635003Z",
          "shell.execute_reply": "2021-02-26T16:02:12.635591Z"
        },
        "papermill": {
          "duration": 0.076167,
          "end_time": "2021-02-26T16:02:12.635760",
          "exception": false,
          "start_time": "2021-02-26T16:02:12.559593",
          "status": "completed"
        },
        "tags": [],
        "colab": {
          "base_uri": "https://localhost:8080/",
          "height": 235
        },
        "id": "fb43UW7TqXHZ",
        "outputId": "2a7b8c29-360a-4dfe-e170-e5d02c849c0b"
      },
      "source": [
        "# Definindo a coluna 'date' como index da base\n",
        "df_train.set_index('date', inplace=True)\n",
        "df_train.head()"
      ],
      "execution_count": 6,
      "outputs": [
        {
          "output_type": "execute_result",
          "data": {
            "text/html": [
              "<div>\n",
              "<style scoped>\n",
              "    .dataframe tbody tr th:only-of-type {\n",
              "        vertical-align: middle;\n",
              "    }\n",
              "\n",
              "    .dataframe tbody tr th {\n",
              "        vertical-align: top;\n",
              "    }\n",
              "\n",
              "    .dataframe thead th {\n",
              "        text-align: right;\n",
              "    }\n",
              "</style>\n",
              "<table border=\"1\" class=\"dataframe\">\n",
              "  <thead>\n",
              "    <tr style=\"text-align: right;\">\n",
              "      <th></th>\n",
              "      <th>store</th>\n",
              "      <th>item</th>\n",
              "      <th>sales</th>\n",
              "    </tr>\n",
              "    <tr>\n",
              "      <th>date</th>\n",
              "      <th></th>\n",
              "      <th></th>\n",
              "      <th></th>\n",
              "    </tr>\n",
              "  </thead>\n",
              "  <tbody>\n",
              "    <tr>\n",
              "      <th>2013-01-01</th>\n",
              "      <td>1</td>\n",
              "      <td>1</td>\n",
              "      <td>13</td>\n",
              "    </tr>\n",
              "    <tr>\n",
              "      <th>2013-01-02</th>\n",
              "      <td>1</td>\n",
              "      <td>1</td>\n",
              "      <td>11</td>\n",
              "    </tr>\n",
              "    <tr>\n",
              "      <th>2013-01-03</th>\n",
              "      <td>1</td>\n",
              "      <td>1</td>\n",
              "      <td>14</td>\n",
              "    </tr>\n",
              "    <tr>\n",
              "      <th>2013-01-04</th>\n",
              "      <td>1</td>\n",
              "      <td>1</td>\n",
              "      <td>13</td>\n",
              "    </tr>\n",
              "    <tr>\n",
              "      <th>2013-01-05</th>\n",
              "      <td>1</td>\n",
              "      <td>1</td>\n",
              "      <td>10</td>\n",
              "    </tr>\n",
              "  </tbody>\n",
              "</table>\n",
              "</div>"
            ],
            "text/plain": [
              "            store  item  sales\n",
              "date                          \n",
              "2013-01-01      1     1     13\n",
              "2013-01-02      1     1     11\n",
              "2013-01-03      1     1     14\n",
              "2013-01-04      1     1     13\n",
              "2013-01-05      1     1     10"
            ]
          },
          "metadata": {
            "tags": []
          },
          "execution_count": 6
        }
      ]
    },
    {
      "cell_type": "code",
      "metadata": {
        "execution": {
          "iopub.execute_input": "2021-02-26T16:02:12.741853Z",
          "iopub.status.busy": "2021-02-26T16:02:12.740890Z",
          "iopub.status.idle": "2021-02-26T16:02:12.815995Z",
          "shell.execute_reply": "2021-02-26T16:02:12.816571Z"
        },
        "papermill": {
          "duration": 0.136139,
          "end_time": "2021-02-26T16:02:12.816755",
          "exception": false,
          "start_time": "2021-02-26T16:02:12.680616",
          "status": "completed"
        },
        "tags": [],
        "colab": {
          "base_uri": "https://localhost:8080/",
          "height": 297
        },
        "id": "sjV61Fv2qXHZ",
        "outputId": "7a192ade-7cc1-40d0-9693-7214e382fb0d"
      },
      "source": [
        "# Descrição estatística dos dados\n",
        "df_train.describe()"
      ],
      "execution_count": 7,
      "outputs": [
        {
          "output_type": "execute_result",
          "data": {
            "text/html": [
              "<div>\n",
              "<style scoped>\n",
              "    .dataframe tbody tr th:only-of-type {\n",
              "        vertical-align: middle;\n",
              "    }\n",
              "\n",
              "    .dataframe tbody tr th {\n",
              "        vertical-align: top;\n",
              "    }\n",
              "\n",
              "    .dataframe thead th {\n",
              "        text-align: right;\n",
              "    }\n",
              "</style>\n",
              "<table border=\"1\" class=\"dataframe\">\n",
              "  <thead>\n",
              "    <tr style=\"text-align: right;\">\n",
              "      <th></th>\n",
              "      <th>store</th>\n",
              "      <th>item</th>\n",
              "      <th>sales</th>\n",
              "    </tr>\n",
              "  </thead>\n",
              "  <tbody>\n",
              "    <tr>\n",
              "      <th>count</th>\n",
              "      <td>913000.000000</td>\n",
              "      <td>913000.000000</td>\n",
              "      <td>913000.000000</td>\n",
              "    </tr>\n",
              "    <tr>\n",
              "      <th>mean</th>\n",
              "      <td>5.500000</td>\n",
              "      <td>25.500000</td>\n",
              "      <td>52.250287</td>\n",
              "    </tr>\n",
              "    <tr>\n",
              "      <th>std</th>\n",
              "      <td>2.872283</td>\n",
              "      <td>14.430878</td>\n",
              "      <td>28.801144</td>\n",
              "    </tr>\n",
              "    <tr>\n",
              "      <th>min</th>\n",
              "      <td>1.000000</td>\n",
              "      <td>1.000000</td>\n",
              "      <td>0.000000</td>\n",
              "    </tr>\n",
              "    <tr>\n",
              "      <th>25%</th>\n",
              "      <td>3.000000</td>\n",
              "      <td>13.000000</td>\n",
              "      <td>30.000000</td>\n",
              "    </tr>\n",
              "    <tr>\n",
              "      <th>50%</th>\n",
              "      <td>5.500000</td>\n",
              "      <td>25.500000</td>\n",
              "      <td>47.000000</td>\n",
              "    </tr>\n",
              "    <tr>\n",
              "      <th>75%</th>\n",
              "      <td>8.000000</td>\n",
              "      <td>38.000000</td>\n",
              "      <td>70.000000</td>\n",
              "    </tr>\n",
              "    <tr>\n",
              "      <th>max</th>\n",
              "      <td>10.000000</td>\n",
              "      <td>50.000000</td>\n",
              "      <td>231.000000</td>\n",
              "    </tr>\n",
              "  </tbody>\n",
              "</table>\n",
              "</div>"
            ],
            "text/plain": [
              "               store           item          sales\n",
              "count  913000.000000  913000.000000  913000.000000\n",
              "mean        5.500000      25.500000      52.250287\n",
              "std         2.872283      14.430878      28.801144\n",
              "min         1.000000       1.000000       0.000000\n",
              "25%         3.000000      13.000000      30.000000\n",
              "50%         5.500000      25.500000      47.000000\n",
              "75%         8.000000      38.000000      70.000000\n",
              "max        10.000000      50.000000     231.000000"
            ]
          },
          "metadata": {
            "tags": []
          },
          "execution_count": 7
        }
      ]
    },
    {
      "cell_type": "code",
      "metadata": {
        "execution": {
          "iopub.execute_input": "2021-02-26T16:02:12.916153Z",
          "iopub.status.busy": "2021-02-26T16:02:12.915114Z",
          "iopub.status.idle": "2021-02-26T16:02:12.930841Z",
          "shell.execute_reply": "2021-02-26T16:02:12.930015Z"
        },
        "papermill": {
          "duration": 0.06488,
          "end_time": "2021-02-26T16:02:12.931022",
          "exception": false,
          "start_time": "2021-02-26T16:02:12.866142",
          "status": "completed"
        },
        "tags": [],
        "colab": {
          "base_uri": "https://localhost:8080/"
        },
        "id": "_ul_BacUqXHa",
        "outputId": "11b16b0f-0ae1-4f59-e457-ab4b82020856"
      },
      "source": [
        "# Obtendo informação do tipo dos dados\n",
        "df_train.info()"
      ],
      "execution_count": 8,
      "outputs": [
        {
          "output_type": "stream",
          "text": [
            "<class 'pandas.core.frame.DataFrame'>\n",
            "Index: 913000 entries, 2013-01-01 to 2017-12-31\n",
            "Data columns (total 3 columns):\n",
            " #   Column  Non-Null Count   Dtype\n",
            "---  ------  --------------   -----\n",
            " 0   store   913000 non-null  int64\n",
            " 1   item    913000 non-null  int64\n",
            " 2   sales   913000 non-null  int64\n",
            "dtypes: int64(3)\n",
            "memory usage: 27.9+ MB\n"
          ],
          "name": "stdout"
        }
      ]
    },
    {
      "cell_type": "code",
      "metadata": {
        "execution": {
          "iopub.execute_input": "2021-02-26T16:02:13.028470Z",
          "iopub.status.busy": "2021-02-26T16:02:13.027633Z",
          "iopub.status.idle": "2021-02-26T16:02:13.038292Z",
          "shell.execute_reply": "2021-02-26T16:02:13.037720Z"
        },
        "papermill": {
          "duration": 0.060993,
          "end_time": "2021-02-26T16:02:13.038450",
          "exception": false,
          "start_time": "2021-02-26T16:02:12.977457",
          "status": "completed"
        },
        "tags": [],
        "colab": {
          "base_uri": "https://localhost:8080/"
        },
        "id": "Qpuy6mG4qXHa",
        "outputId": "b13d0dad-b86a-413b-88e3-2f045d00f30f"
      },
      "source": [
        "# Visualizando as lojas existente na base de dados de forma única\n",
        "df_train['store'].unique()"
      ],
      "execution_count": 9,
      "outputs": [
        {
          "output_type": "execute_result",
          "data": {
            "text/plain": [
              "array([ 1,  2,  3,  4,  5,  6,  7,  8,  9, 10])"
            ]
          },
          "metadata": {
            "tags": []
          },
          "execution_count": 9
        }
      ]
    },
    {
      "cell_type": "code",
      "metadata": {
        "execution": {
          "iopub.execute_input": "2021-02-26T16:02:13.136762Z",
          "iopub.status.busy": "2021-02-26T16:02:13.135882Z",
          "iopub.status.idle": "2021-02-26T16:02:13.145990Z",
          "shell.execute_reply": "2021-02-26T16:02:13.146555Z"
        },
        "papermill": {
          "duration": 0.061358,
          "end_time": "2021-02-26T16:02:13.146727",
          "exception": false,
          "start_time": "2021-02-26T16:02:13.085369",
          "status": "completed"
        },
        "tags": [],
        "colab": {
          "base_uri": "https://localhost:8080/"
        },
        "id": "CcsJF0agqXHa",
        "outputId": "474cb72e-93a8-47e7-b3f3-411aafeb57bd"
      },
      "source": [
        "# Visualizando os itens existentes na base de dados de forma única\n",
        "df_train['item'].unique()"
      ],
      "execution_count": 10,
      "outputs": [
        {
          "output_type": "execute_result",
          "data": {
            "text/plain": [
              "array([ 1,  2,  3,  4,  5,  6,  7,  8,  9, 10, 11, 12, 13, 14, 15, 16, 17,\n",
              "       18, 19, 20, 21, 22, 23, 24, 25, 26, 27, 28, 29, 30, 31, 32, 33, 34,\n",
              "       35, 36, 37, 38, 39, 40, 41, 42, 43, 44, 45, 46, 47, 48, 49, 50])"
            ]
          },
          "metadata": {
            "tags": []
          },
          "execution_count": 10
        }
      ]
    },
    {
      "cell_type": "code",
      "metadata": {
        "execution": {
          "iopub.execute_input": "2021-02-26T16:02:13.252308Z",
          "iopub.status.busy": "2021-02-26T16:02:13.250935Z",
          "iopub.status.idle": "2021-02-26T16:02:15.917439Z",
          "shell.execute_reply": "2021-02-26T16:02:15.916849Z"
        },
        "papermill": {
          "duration": 2.72217,
          "end_time": "2021-02-26T16:02:15.917597",
          "exception": false,
          "start_time": "2021-02-26T16:02:13.195427",
          "status": "completed"
        },
        "tags": [],
        "colab": {
          "base_uri": "https://localhost:8080/",
          "height": 269
        },
        "id": "qBvV1ymDqXHb",
        "outputId": "da4d90c4-4b60-4eb1-c78e-3ed0b68e7597"
      },
      "source": [
        "# Identificar visualmente se tem dados faltantes\n",
        "sns.heatmap(df_train.isnull());"
      ],
      "execution_count": 26,
      "outputs": [
        {
          "output_type": "display_data",
          "data": {
            "image/png": "[encoded data removed]",
            "text/plain": [
              "<Figure size 432x288 with 2 Axes>"
            ]
          },
          "metadata": {
            "tags": [],
            "needs_background": "light"
          }
        }
      ]
    },
    {
      "cell_type": "code",
      "metadata": {
        "execution": {
          "iopub.execute_input": "2021-02-26T16:02:16.021577Z",
          "iopub.status.busy": "2021-02-26T16:02:16.020295Z",
          "iopub.status.idle": "2021-02-26T16:02:16.392134Z",
          "shell.execute_reply": "2021-02-26T16:02:16.392833Z"
        },
        "papermill": {
          "duration": 0.426414,
          "end_time": "2021-02-26T16:02:16.393024",
          "exception": false,
          "start_time": "2021-02-26T16:02:15.966610",
          "status": "completed"
        },
        "tags": [],
        "colab": {
          "base_uri": "https://localhost:8080/",
          "height": 596
        },
        "id": "4h1OL0dbqXHb",
        "outputId": "2b7d346c-4d8e-4f90-9eaa-cd01879da0c1"
      },
      "source": [
        "# Correlação entre as variáveis da base de dados\n",
        "correlations = df_train.corr()\n",
        "f, ax = plt.subplots(figsize = (16,10))\n",
        "sns.heatmap(correlations, annot=True);"
      ],
      "execution_count": 27,
      "outputs": [
        {
          "output_type": "display_data",
          "data": {
            "image/png": "[encoded data removed]",
            "text/plain": [
              "<Figure size 1152x720 with 2 Axes>"
            ]
          },
          "metadata": {
            "tags": [],
            "needs_background": "light"
          }
        }
      ]
    },
    {
      "cell_type": "code",
      "metadata": {
        "execution": {
          "iopub.execute_input": "2021-02-26T16:02:16.499803Z",
          "iopub.status.busy": "2021-02-26T16:02:16.498893Z",
          "iopub.status.idle": "2021-02-26T16:02:17.454802Z",
          "shell.execute_reply": "2021-02-26T16:02:17.455306Z"
        },
        "papermill": {
          "duration": 1.012762,
          "end_time": "2021-02-26T16:02:17.455517",
          "exception": false,
          "start_time": "2021-02-26T16:02:16.442755",
          "status": "completed"
        },
        "tags": [],
        "colab": {
          "base_uri": "https://localhost:8080/",
          "height": 350
        },
        "id": "N3zdDcacqXHb",
        "outputId": "a140af85-df0a-4b71-aa71-02ea2f7f3fc8"
      },
      "source": [
        "# Plot para saber qual loja vendeu mais durante o ano de 2013 a 2017\n",
        "# As lojas que mais venderam são a loja 2 e 8\n",
        "ax = df_train.groupby('store')[['sales']].mean().plot(figsize = (10,5), marker = 'o')\n",
        "ax.set_title('Média de venda por loja');"
      ],
      "execution_count": 28,
      "outputs": [
        {
          "output_type": "display_data",
          "data": {
            "image/png": "[encoded data removed]",
            "text/plain": [
              "<Figure size 720x360 with 1 Axes>"
            ]
          },
          "metadata": {
            "tags": [],
            "needs_background": "light"
          }
        }
      ]
    },
    {
      "cell_type": "code",
      "metadata": {
        "execution": {
          "iopub.execute_input": "2021-02-26T16:02:17.578685Z",
          "iopub.status.busy": "2021-02-26T16:02:17.577742Z",
          "iopub.status.idle": "2021-02-26T16:02:17.607064Z",
          "shell.execute_reply": "2021-02-26T16:02:17.606221Z"
        },
        "papermill": {
          "duration": 0.092105,
          "end_time": "2021-02-26T16:02:17.607239",
          "exception": false,
          "start_time": "2021-02-26T16:02:17.515134",
          "status": "completed"
        },
        "tags": [],
        "id": "efFv4wrFqXHb",
        "colab": {
          "base_uri": "https://localhost:8080/"
        },
        "outputId": "d2e3adf1-13e9-441c-8505-29c71cd01d80"
      },
      "source": [
        "# Separação dos dados entre duas lojas para idenficiação da correção entre elas e se a série é estacionário ou não.\n",
        "df_store_2 = df_train.loc[df_train['store'] == 2]\n",
        "df_store_8 = df_train.loc[df_train['store'] == 8]\n",
        "print('Shape Store 2: ',format(df_store_2.shape))\n",
        "print('Shape Store 8: ',format(df_store_8.shape))"
      ],
      "execution_count": 29,
      "outputs": [
        {
          "output_type": "stream",
          "text": [
            "Shape Store 2:  (91300, 3)\n",
            "Shape Store 8:  (91300, 3)\n"
          ],
          "name": "stdout"
        }
      ]
    },
    {
      "cell_type": "code",
      "metadata": {
        "execution": {
          "iopub.execute_input": "2021-02-26T16:02:17.729635Z",
          "iopub.status.busy": "2021-02-26T16:02:17.728605Z",
          "iopub.status.idle": "2021-02-26T16:02:18.300175Z",
          "shell.execute_reply": "2021-02-26T16:02:18.301377Z"
        },
        "papermill": {
          "duration": 0.63602,
          "end_time": "2021-02-26T16:02:18.301627",
          "exception": false,
          "start_time": "2021-02-26T16:02:17.665607",
          "status": "completed"
        },
        "tags": [],
        "id": "Q6UPTkAjqXHc",
        "colab": {
          "base_uri": "https://localhost:8080/",
          "height": 497
        },
        "outputId": "3bf2e143-97d3-465b-b9f7-32d3eda5ff49"
      },
      "source": [
        "# Plot das vendas da loja 2\n",
        "df_store_2['sales'].plot(grid = True, figsize= (16,8));"
      ],
      "execution_count": 30,
      "outputs": [
        {
          "output_type": "display_data",
          "data": {
            "image/png": "[encoded data removed]",
            "text/plain": [
              "<Figure size 1152x576 with 1 Axes>"
            ]
          },
          "metadata": {
            "tags": [],
            "needs_background": "light"
          }
        }
      ]
    },
    {
      "cell_type": "code",
      "metadata": {
        "execution": {
          "iopub.execute_input": "2021-02-26T16:02:18.484628Z",
          "iopub.status.busy": "2021-02-26T16:02:18.483681Z",
          "iopub.status.idle": "2021-02-26T16:02:19.196909Z",
          "shell.execute_reply": "2021-02-26T16:02:19.198902Z"
        },
        "papermill": {
          "duration": 0.81266,
          "end_time": "2021-02-26T16:02:19.199155",
          "exception": false,
          "start_time": "2021-02-26T16:02:18.386495",
          "status": "completed"
        },
        "tags": [],
        "id": "2WpbYWsSqXHc",
        "colab": {
          "base_uri": "https://localhost:8080/",
          "height": 497
        },
        "outputId": "797fed31-cc83-452c-dc04-7ee4f2475b80"
      },
      "source": [
        "# Plot das vendas da loja 8\n",
        "df_store_8['sales'].plot(grid = True, figsize= (16,8));"
      ],
      "execution_count": 31,
      "outputs": [
        {
          "output_type": "display_data",
          "data": {
            "image/png": "[encoded data removed]",
            "text/plain": [
              "<Figure size 1152x576 with 1 Axes>"
            ]
          },
          "metadata": {
            "tags": [],
            "needs_background": "light"
          }
        }
      ]
    },
    {
      "cell_type": "code",
      "metadata": {
        "execution": {
          "iopub.execute_input": "2021-02-26T16:02:19.351603Z",
          "iopub.status.busy": "2021-02-26T16:02:19.350866Z",
          "iopub.status.idle": "2021-02-26T16:02:19.358429Z",
          "shell.execute_reply": "2021-02-26T16:02:19.359254Z"
        },
        "papermill": {
          "duration": 0.085562,
          "end_time": "2021-02-26T16:02:19.359513",
          "exception": false,
          "start_time": "2021-02-26T16:02:19.273951",
          "status": "completed"
        },
        "tags": [],
        "id": "MCjc0jygqXHc",
        "colab": {
          "base_uri": "https://localhost:8080/"
        },
        "outputId": "892d83cc-afd9-4f7a-b86d-efdc7666798c"
      },
      "source": [
        "# Correlação entre a loja 2 e loja 8\n",
        "correlacao = df_store_2['sales'].corr(df_store_8['sales'])\n",
        "print('Correlação entre loja 2 e loja 8 é de {}%'.format(np.round(correlacao*100)))"
      ],
      "execution_count": 32,
      "outputs": [
        {
          "output_type": "stream",
          "text": [
            "Correlação entre loja 2 e loja 8 é de 94.0%\n"
          ],
          "name": "stdout"
        }
      ]
    },
    {
      "cell_type": "code",
      "metadata": {
        "execution": {
          "iopub.execute_input": "2021-02-26T16:02:19.509112Z",
          "iopub.status.busy": "2021-02-26T16:02:19.508242Z",
          "iopub.status.idle": "2021-02-26T16:02:19.518704Z",
          "shell.execute_reply": "2021-02-26T16:02:19.519478Z"
        },
        "papermill": {
          "duration": 0.088757,
          "end_time": "2021-02-26T16:02:19.519725",
          "exception": false,
          "start_time": "2021-02-26T16:02:19.430968",
          "status": "completed"
        },
        "tags": [],
        "id": "eSmbD7PyqXHd",
        "colab": {
          "base_uri": "https://localhost:8080/"
        },
        "outputId": "53b75e12-e297-4b16-c005-bc636eb2ea8d"
      },
      "source": [
        "# Autocorrelação da loja 2 com a variável vendas\n",
        "autocorrelation = df_store_2['sales'].autocorr()\n",
        "print('A autocorrelação de vendas da loja 2 diária com lag de 1 é de {}%'.format(np.round(autocorrelation*100)))"
      ],
      "execution_count": 33,
      "outputs": [
        {
          "output_type": "stream",
          "text": [
            "A autocorrelação de vendas da loja 2 diária com lag de 1 é de 87.0%\n"
          ],
          "name": "stdout"
        }
      ]
    },
    {
      "cell_type": "code",
      "metadata": {
        "execution": {
          "iopub.execute_input": "2021-02-26T16:02:19.660687Z",
          "iopub.status.busy": "2021-02-26T16:02:19.659870Z",
          "iopub.status.idle": "2021-02-26T16:02:19.669022Z",
          "shell.execute_reply": "2021-02-26T16:02:19.669858Z"
        },
        "papermill": {
          "duration": 0.079861,
          "end_time": "2021-02-26T16:02:19.670134",
          "exception": false,
          "start_time": "2021-02-26T16:02:19.590273",
          "status": "completed"
        },
        "tags": [],
        "id": "E_qXX9YUqXHd",
        "colab": {
          "base_uri": "https://localhost:8080/"
        },
        "outputId": "d4823273-dfdb-48aa-dc2c-eb265760cb12"
      },
      "source": [
        "# Autocorrelação da loja 8 com a variável vendas\n",
        "autocorrelation = df_store_8['sales'].autocorr()\n",
        "print('A autocorrelação de vendas da loja 8 diária com lag de 1 é de {}%'.format(np.round(autocorrelation*100)))"
      ],
      "execution_count": 34,
      "outputs": [
        {
          "output_type": "stream",
          "text": [
            "A autocorrelação de vendas da loja 8 diária com lag de 1 é de 87.0%\n"
          ],
          "name": "stdout"
        }
      ]
    },
    {
      "cell_type": "code",
      "metadata": {
        "execution": {
          "iopub.execute_input": "2021-02-26T16:02:19.843937Z",
          "iopub.status.busy": "2021-02-26T16:02:19.823500Z",
          "iopub.status.idle": "2021-02-26T16:02:22.652614Z",
          "shell.execute_reply": "2021-02-26T16:02:22.652082Z"
        },
        "papermill": {
          "duration": 2.908329,
          "end_time": "2021-02-26T16:02:22.652757",
          "exception": false,
          "start_time": "2021-02-26T16:02:19.744428",
          "status": "completed"
        },
        "tags": [],
        "id": "r7mj10xvqXHd",
        "colab": {
          "base_uri": "https://localhost:8080/",
          "height": 281
        },
        "outputId": "4067452f-cae4-4252-bbc4-df946f5e52ec"
      },
      "source": [
        "# Plot de Autocorrelação da loja 2 em relação as vendas\n",
        "plot_acf(df_store_2['sales'], alpha=0.05);"
      ],
      "execution_count": 35,
      "outputs": [
        {
          "output_type": "display_data",
          "data": {
            "image/png": "[encoded data removed]",
            "text/plain": [
              "<Figure size 432x288 with 1 Axes>"
            ]
          },
          "metadata": {
            "tags": [],
            "needs_background": "light"
          }
        }
      ]
    },
    {
      "cell_type": "code",
      "metadata": {
        "execution": {
          "iopub.execute_input": "2021-02-26T16:02:22.804243Z",
          "iopub.status.busy": "2021-02-26T16:02:22.803125Z",
          "iopub.status.idle": "2021-02-26T16:02:23.275378Z",
          "shell.execute_reply": "2021-02-26T16:02:23.276197Z"
        },
        "papermill": {
          "duration": 0.558984,
          "end_time": "2021-02-26T16:02:23.276388",
          "exception": false,
          "start_time": "2021-02-26T16:02:22.717404",
          "status": "completed"
        },
        "tags": [],
        "id": "KrXRKzPzqXHd",
        "colab": {
          "base_uri": "https://localhost:8080/",
          "height": 281
        },
        "outputId": "1153fba1-a3af-426b-e8ca-8a48169a9582"
      },
      "source": [
        "# Plot de Autocorrelação Parcial da loja 2 em relação as vendas\n",
        "plot_pacf(df_store_2['sales'], alpha=0.05);"
      ],
      "execution_count": 36,
      "outputs": [
        {
          "output_type": "display_data",
          "data": {
            "image/png": "[encoded data removed]",
            "text/plain": [
              "<Figure size 432x288 with 1 Axes>"
            ]
          },
          "metadata": {
            "tags": [],
            "needs_background": "light"
          }
        }
      ]
    },
    {
      "cell_type": "code",
      "metadata": {
        "execution": {
          "iopub.execute_input": "2021-02-26T16:02:23.411212Z",
          "iopub.status.busy": "2021-02-26T16:02:23.409728Z",
          "iopub.status.idle": "2021-02-26T16:02:51.822881Z",
          "shell.execute_reply": "2021-02-26T16:02:51.824393Z"
        },
        "papermill": {
          "duration": 28.484232,
          "end_time": "2021-02-26T16:02:51.824693",
          "exception": false,
          "start_time": "2021-02-26T16:02:23.340461",
          "status": "completed"
        },
        "tags": [],
        "id": "LmFVrvBeqXHd",
        "colab": {
          "base_uri": "https://localhost:8080/"
        },
        "outputId": "4da9c02c-4eed-4ebe-8e09-5019718fbbdd"
      },
      "source": [
        "# Teste de Dickey Fuller para saber se a série é estacionária\n",
        "adfinput = adfuller(df_store_2.sales)\n",
        "adftest = pd.Series(adfinput[0:4], index = ['Teste Estatistico Dickey Fuller', 'Valor-P', 'Lags Usados', 'Número de observações usadas'])\n",
        "\n",
        "adftest = round(adftest, 4)\n",
        "\n",
        "for key, value in adfinput[4].items():\n",
        "    adftest['Valores Críticos (%s)'%key] = value.round(4)\n",
        "\n",
        "adftest"
      ],
      "execution_count": 37,
      "outputs": [
        {
          "output_type": "execute_result",
          "data": {
            "text/plain": [
              "Teste Estatistico Dickey Fuller      -12.4979\n",
              "Valor-P                                0.0000\n",
              "Lags Usados                           66.0000\n",
              "Número de observações usadas       91233.0000\n",
              "Valores Críticos (1%)                 -3.4304\n",
              "Valores Críticos (5%)                 -2.8616\n",
              "Valores Críticos (10%)                -2.5668\n",
              "dtype: float64"
            ]
          },
          "metadata": {
            "tags": []
          },
          "execution_count": 37
        }
      ]
    },
    {
      "cell_type": "markdown",
      "metadata": {
        "papermill": {
          "duration": 0.11308,
          "end_time": "2021-02-26T16:02:52.085159",
          "exception": false,
          "start_time": "2021-02-26T16:02:51.972079",
          "status": "completed"
        },
        "tags": [],
        "id": "G3bcUJuEqXHe"
      },
      "source": [
        "### * No teste estatístico de Dickey Fuller com a base de 5%, foi comprovada estatiscamente que a série é estacionária devido o p-Valor ser menor que 5%. "
      ]
    },
    {
      "cell_type": "code",
      "metadata": {
        "execution": {
          "iopub.execute_input": "2021-02-26T16:02:52.281337Z",
          "iopub.status.busy": "2021-02-26T16:02:52.280462Z",
          "iopub.status.idle": "2021-02-26T16:02:52.290188Z",
          "shell.execute_reply": "2021-02-26T16:02:52.291237Z"
        },
        "papermill": {
          "duration": 0.109314,
          "end_time": "2021-02-26T16:02:52.291854",
          "exception": false,
          "start_time": "2021-02-26T16:02:52.182540",
          "status": "completed"
        },
        "tags": [],
        "id": "2V0k1AM4qXHe",
        "colab": {
          "base_uri": "https://localhost:8080/",
          "height": 235
        },
        "outputId": "3a208eb0-d5a4-4d62-9dee-c7a8653f6a76"
      },
      "source": [
        "# Visualizando os dados com as novas variáveis\n",
        "df_train.head()"
      ],
      "execution_count": 38,
      "outputs": [
        {
          "output_type": "execute_result",
          "data": {
            "text/html": [
              "<div>\n",
              "<style scoped>\n",
              "    .dataframe tbody tr th:only-of-type {\n",
              "        vertical-align: middle;\n",
              "    }\n",
              "\n",
              "    .dataframe tbody tr th {\n",
              "        vertical-align: top;\n",
              "    }\n",
              "\n",
              "    .dataframe thead th {\n",
              "        text-align: right;\n",
              "    }\n",
              "</style>\n",
              "<table border=\"1\" class=\"dataframe\">\n",
              "  <thead>\n",
              "    <tr style=\"text-align: right;\">\n",
              "      <th></th>\n",
              "      <th>store</th>\n",
              "      <th>item</th>\n",
              "      <th>sales</th>\n",
              "    </tr>\n",
              "    <tr>\n",
              "      <th>date</th>\n",
              "      <th></th>\n",
              "      <th></th>\n",
              "      <th></th>\n",
              "    </tr>\n",
              "  </thead>\n",
              "  <tbody>\n",
              "    <tr>\n",
              "      <th>2013-01-01</th>\n",
              "      <td>1</td>\n",
              "      <td>1</td>\n",
              "      <td>13</td>\n",
              "    </tr>\n",
              "    <tr>\n",
              "      <th>2013-01-02</th>\n",
              "      <td>1</td>\n",
              "      <td>1</td>\n",
              "      <td>11</td>\n",
              "    </tr>\n",
              "    <tr>\n",
              "      <th>2013-01-03</th>\n",
              "      <td>1</td>\n",
              "      <td>1</td>\n",
              "      <td>14</td>\n",
              "    </tr>\n",
              "    <tr>\n",
              "      <th>2013-01-04</th>\n",
              "      <td>1</td>\n",
              "      <td>1</td>\n",
              "      <td>13</td>\n",
              "    </tr>\n",
              "    <tr>\n",
              "      <th>2013-01-05</th>\n",
              "      <td>1</td>\n",
              "      <td>1</td>\n",
              "      <td>10</td>\n",
              "    </tr>\n",
              "  </tbody>\n",
              "</table>\n",
              "</div>"
            ],
            "text/plain": [
              "            store  item  sales\n",
              "date                          \n",
              "2013-01-01      1     1     13\n",
              "2013-01-02      1     1     11\n",
              "2013-01-03      1     1     14\n",
              "2013-01-04      1     1     13\n",
              "2013-01-05      1     1     10"
            ]
          },
          "metadata": {
            "tags": []
          },
          "execution_count": 38
        }
      ]
    },
    {
      "cell_type": "code",
      "metadata": {
        "execution": {
          "iopub.execute_input": "2021-02-26T16:02:52.473473Z",
          "iopub.status.busy": "2021-02-26T16:02:52.472637Z",
          "iopub.status.idle": "2021-02-26T16:02:54.323078Z",
          "shell.execute_reply": "2021-02-26T16:02:54.321989Z"
        },
        "papermill": {
          "duration": 1.943858,
          "end_time": "2021-02-26T16:02:54.323232",
          "exception": false,
          "start_time": "2021-02-26T16:02:52.379374",
          "status": "completed"
        },
        "tags": [],
        "id": "XKPo6-iGqXHe"
      },
      "source": [
        "# Criação de features sazonais\n",
        "df_train['day'] = pd.DatetimeIndex(df_train.index).day\n",
        "df_train['month'] = pd.DatetimeIndex(df_train.index).month\n",
        "df_train['year'] = pd.DatetimeIndex(df_train.index).year\n",
        "df_train['day_of_week'] = pd.DatetimeIndex(df_train.index).dayofweek\n",
        "df_train['year_of_week'] = pd.DatetimeIndex(df_train.index).dayofyear"
      ],
      "execution_count": 11,
      "outputs": []
    },
    {
      "cell_type": "code",
      "metadata": {
        "execution": {
          "iopub.execute_input": "2021-02-26T16:02:54.454482Z",
          "iopub.status.busy": "2021-02-26T16:02:54.453480Z",
          "iopub.status.idle": "2021-02-26T16:02:54.482330Z",
          "shell.execute_reply": "2021-02-26T16:02:54.482881Z"
        },
        "papermill": {
          "duration": 0.097629,
          "end_time": "2021-02-26T16:02:54.483063",
          "exception": false,
          "start_time": "2021-02-26T16:02:54.385434",
          "status": "completed"
        },
        "tags": [],
        "id": "7zXmkemsqXHe",
        "colab": {
          "base_uri": "https://localhost:8080/"
        },
        "outputId": "5f7e4a4b-1d3d-4766-cbd8-c8ed3b20eee4"
      },
      "source": [
        "# Média de vendas diária\n",
        "sales_day = df_train.groupby(['day'])['sales'].mean().round(2)\n",
        "sales_day"
      ],
      "execution_count": 12,
      "outputs": [
        {
          "output_type": "execute_result",
          "data": {
            "text/plain": [
              "day\n",
              "1     52.16\n",
              "2     52.29\n",
              "3     52.31\n",
              "4     51.82\n",
              "5     52.49\n",
              "6     52.13\n",
              "7     52.04\n",
              "8     52.28\n",
              "9     52.21\n",
              "10    52.31\n",
              "11    51.85\n",
              "12    52.45\n",
              "13    52.12\n",
              "14    52.18\n",
              "15    52.22\n",
              "16    52.27\n",
              "17    52.36\n",
              "18    51.79\n",
              "19    52.57\n",
              "20    52.17\n",
              "21    52.18\n",
              "22    52.29\n",
              "23    52.19\n",
              "24    52.26\n",
              "25    51.84\n",
              "26    52.60\n",
              "27    52.10\n",
              "28    52.11\n",
              "29    53.02\n",
              "30    53.40\n",
              "31    51.61\n",
              "Name: sales, dtype: float64"
            ]
          },
          "metadata": {
            "tags": []
          },
          "execution_count": 12
        }
      ]
    },
    {
      "cell_type": "code",
      "metadata": {
        "execution": {
          "iopub.execute_input": "2021-02-26T16:02:54.623141Z",
          "iopub.status.busy": "2021-02-26T16:02:54.622270Z",
          "iopub.status.idle": "2021-02-26T16:02:54.647919Z",
          "shell.execute_reply": "2021-02-26T16:02:54.648544Z"
        },
        "papermill": {
          "duration": 0.096213,
          "end_time": "2021-02-26T16:02:54.648747",
          "exception": false,
          "start_time": "2021-02-26T16:02:54.552534",
          "status": "completed"
        },
        "tags": [],
        "id": "_0BMvd2wqXHf",
        "colab": {
          "base_uri": "https://localhost:8080/"
        },
        "outputId": "9377b55c-f593-4021-f436-c455bbdd50a3"
      },
      "source": [
        "# Média de vendas mensais\n",
        "sales_month = df_train.groupby(['month'])['sales'].mean().round(2)\n",
        "sales_month"
      ],
      "execution_count": 41,
      "outputs": [
        {
          "output_type": "execute_result",
          "data": {
            "text/plain": [
              "month\n",
              "1     35.52\n",
              "2     39.38\n",
              "3     47.31\n",
              "4     55.15\n",
              "5     59.13\n",
              "6     63.03\n",
              "7     67.00\n",
              "8     59.11\n",
              "9     55.07\n",
              "10    51.19\n",
              "11    55.22\n",
              "12    39.37\n",
              "Name: sales, dtype: float64"
            ]
          },
          "metadata": {
            "tags": []
          },
          "execution_count": 41
        }
      ]
    },
    {
      "cell_type": "code",
      "metadata": {
        "execution": {
          "iopub.execute_input": "2021-02-26T16:02:54.796847Z",
          "iopub.status.busy": "2021-02-26T16:02:54.795918Z",
          "iopub.status.idle": "2021-02-26T16:02:54.821882Z",
          "shell.execute_reply": "2021-02-26T16:02:54.822550Z"
        },
        "papermill": {
          "duration": 0.100411,
          "end_time": "2021-02-26T16:02:54.822746",
          "exception": false,
          "start_time": "2021-02-26T16:02:54.722335",
          "status": "completed"
        },
        "tags": [],
        "id": "87qVSFWGqXHf",
        "colab": {
          "base_uri": "https://localhost:8080/"
        },
        "outputId": "806ee1a4-8b8e-4840-99b9-7a014992c1b2"
      },
      "source": [
        "# Média de vendas anuais\n",
        "sales_year = df_train.groupby(['year'])['sales'].mean().round(2)\n",
        "sales_year"
      ],
      "execution_count": 42,
      "outputs": [
        {
          "output_type": "execute_result",
          "data": {
            "text/plain": [
              "year\n",
              "2013    43.51\n",
              "2014    50.06\n",
              "2015    52.26\n",
              "2016    56.60\n",
              "2017    58.82\n",
              "Name: sales, dtype: float64"
            ]
          },
          "metadata": {
            "tags": []
          },
          "execution_count": 42
        }
      ]
    },
    {
      "cell_type": "code",
      "metadata": {
        "execution": {
          "iopub.execute_input": "2021-02-26T16:02:54.995336Z",
          "iopub.status.busy": "2021-02-26T16:02:54.994505Z",
          "iopub.status.idle": "2021-02-26T16:02:55.019296Z",
          "shell.execute_reply": "2021-02-26T16:02:55.019865Z"
        },
        "papermill": {
          "duration": 0.114823,
          "end_time": "2021-02-26T16:02:55.020041",
          "exception": false,
          "start_time": "2021-02-26T16:02:54.905218",
          "status": "completed"
        },
        "tags": [],
        "id": "Zr9VFk9cqXHf",
        "colab": {
          "base_uri": "https://localhost:8080/"
        },
        "outputId": "9be7c9cb-5b13-4ac9-c19f-de79d06dc2d9"
      },
      "source": [
        "# Total de itens vendidos por ordem descrecente\n",
        "total_item_sales = df_train.groupby(['item'])['sales'].sum().sort_values(ascending=False)\n",
        "total_item_sales"
      ],
      "execution_count": 43,
      "outputs": [
        {
          "output_type": "execute_result",
          "data": {
            "text/plain": [
              "item\n",
              "15    1607442\n",
              "28    1604713\n",
              "13    1539621\n",
              "18    1538876\n",
              "25    1473334\n",
              "45    1471467\n",
              "38    1470330\n",
              "22    1469971\n",
              "36    1406548\n",
              "8     1405108\n",
              "10    1337133\n",
              "11    1271925\n",
              "12    1271534\n",
              "29    1271240\n",
              "33    1270183\n",
              "24    1205975\n",
              "50    1203009\n",
              "35    1201541\n",
              "14    1071531\n",
              "31    1070845\n",
              "46    1070764\n",
              "2     1069564\n",
              "7     1068777\n",
              "6     1068281\n",
              "9      938379\n",
              "48     937703\n",
              "43     936635\n",
              "26     869981\n",
              "20     867641\n",
              "32     803107\n",
              "39     801311\n",
              "19     736892\n",
              "30     736554\n",
              "21     736190\n",
              "42     669925\n",
              "3      669087\n",
              "17     602486\n",
              "44     536811\n",
              "49     535663\n",
              "23     534979\n",
              "37     534258\n",
              "40     534094\n",
              "34     469935\n",
              "16     468480\n",
              "27     402628\n",
              "4      401907\n",
              "47     401781\n",
              "41     401759\n",
              "1      401384\n",
              "5      335230\n",
              "Name: sales, dtype: int64"
            ]
          },
          "metadata": {
            "tags": []
          },
          "execution_count": 43
        }
      ]
    },
    {
      "cell_type": "code",
      "metadata": {
        "execution": {
          "iopub.execute_input": "2021-02-26T16:02:55.158718Z",
          "iopub.status.busy": "2021-02-26T16:02:55.158024Z",
          "iopub.status.idle": "2021-02-26T16:02:55.162496Z",
          "shell.execute_reply": "2021-02-26T16:02:55.161926Z"
        },
        "papermill": {
          "duration": 0.074148,
          "end_time": "2021-02-26T16:02:55.162637",
          "exception": false,
          "start_time": "2021-02-26T16:02:55.088489",
          "status": "completed"
        },
        "tags": [],
        "id": "shN4G6ZTqXHf"
      },
      "source": [
        "#profile = ProfileReport(df_train, title = 'Store Item Demand', html = {'style':{'full_width':True}})\n",
        "#profile.to_notebook_iframe()\n",
        "#profile.to_file(output_file = 'Store Item Demand - Report.html')"
      ],
      "execution_count": 44,
      "outputs": []
    },
    {
      "cell_type": "markdown",
      "metadata": {
        "papermill": {
          "duration": 0.065134,
          "end_time": "2021-02-26T16:02:55.295458",
          "exception": false,
          "start_time": "2021-02-26T16:02:55.230324",
          "status": "completed"
        },
        "tags": [],
        "id": "mYmcRUpcqXHg"
      },
      "source": [
        "# 4. Visualização dos Dados"
      ]
    },
    {
      "cell_type": "code",
      "metadata": {
        "execution": {
          "iopub.execute_input": "2021-02-26T16:02:55.434137Z",
          "iopub.status.busy": "2021-02-26T16:02:55.433505Z",
          "iopub.status.idle": "2021-02-26T16:02:55.522386Z",
          "shell.execute_reply": "2021-02-26T16:02:55.522848Z"
        },
        "papermill": {
          "duration": 0.16084,
          "end_time": "2021-02-26T16:02:55.523044",
          "exception": false,
          "start_time": "2021-02-26T16:02:55.362204",
          "status": "completed"
        },
        "tags": [],
        "id": "Bircd8owqXHg",
        "colab": {
          "base_uri": "https://localhost:8080/",
          "height": 295
        },
        "outputId": "55c3b9d7-86e6-4424-e39d-962b769165c7"
      },
      "source": [
        "# Plot de média de vendas diárias\n",
        "sns.lineplot(x= 'day', y='sales', data=df_train).set_title('Média de vendas diárias');"
      ],
      "execution_count": 57,
      "outputs": [
        {
          "output_type": "display_data",
          "data": {
            "image/png": "[encoded data removed]",
            "text/plain": [
              "<Figure size 432x288 with 1 Axes>"
            ]
          },
          "metadata": {
            "tags": [],
            "needs_background": "light"
          }
        }
      ]
    },
    {
      "cell_type": "code",
      "metadata": {
        "execution": {
          "iopub.execute_input": "2021-02-26T16:02:55.675246Z",
          "iopub.status.busy": "2021-02-26T16:02:55.674487Z",
          "iopub.status.idle": "2021-02-26T16:02:55.765537Z",
          "shell.execute_reply": "2021-02-26T16:02:55.766034Z"
        },
        "papermill": {
          "duration": 0.169949,
          "end_time": "2021-02-26T16:02:55.766190",
          "exception": false,
          "start_time": "2021-02-26T16:02:55.596241",
          "status": "completed"
        },
        "tags": [],
        "id": "au-aZyRBqXHg",
        "colab": {
          "base_uri": "https://localhost:8080/",
          "height": 295
        },
        "outputId": "7f0289a6-ceaa-4cb4-b95c-5f48f7e6de5b"
      },
      "source": [
        "# Plot de média de vendas mensais\n",
        "sns.lineplot(x= 'month', y='sales', data=df_train).set_title('Média de vendas mensais');"
      ],
      "execution_count": 45,
      "outputs": [
        {
          "output_type": "display_data",
          "data": {
            "image/png": "[encoded data removed]",
            "text/plain": [
              "<Figure size 432x288 with 1 Axes>"
            ]
          },
          "metadata": {
            "tags": [],
            "needs_background": "light"
          }
        }
      ]
    },
    {
      "cell_type": "code",
      "metadata": {
        "execution": {
          "iopub.execute_input": "2021-02-26T16:02:55.973138Z",
          "iopub.status.busy": "2021-02-26T16:02:55.962894Z",
          "iopub.status.idle": "2021-02-26T16:02:56.002629Z",
          "shell.execute_reply": "2021-02-26T16:02:56.003133Z"
        },
        "papermill": {
          "duration": 0.157856,
          "end_time": "2021-02-26T16:02:56.003293",
          "exception": false,
          "start_time": "2021-02-26T16:02:55.845437",
          "status": "completed"
        },
        "tags": [],
        "id": "plIgMyx5qXHg",
        "colab": {
          "base_uri": "https://localhost:8080/",
          "height": 295
        },
        "outputId": "c73c0f82-fcff-47ae-85e7-878e5500a008"
      },
      "source": [
        "# Plot de média de vendas anuais\n",
        "sns.lineplot(x= 'year', y='sales', data=df_train).set_title('Média de vendas anuais');"
      ],
      "execution_count": 46,
      "outputs": [
        {
          "output_type": "display_data",
          "data": {
            "image/png": "[encoded data removed]",
            "text/plain": [
              "<Figure size 432x288 with 1 Axes>"
            ]
          },
          "metadata": {
            "tags": [],
            "needs_background": "light"
          }
        }
      ]
    },
    {
      "cell_type": "code",
      "metadata": {
        "execution": {
          "iopub.execute_input": "2021-02-26T16:02:56.183456Z",
          "iopub.status.busy": "2021-02-26T16:02:56.182069Z",
          "iopub.status.idle": "2021-02-26T16:02:56.312646Z",
          "shell.execute_reply": "2021-02-26T16:02:56.313188Z"
        },
        "papermill": {
          "duration": 0.22446,
          "end_time": "2021-02-26T16:02:56.313380",
          "exception": false,
          "start_time": "2021-02-26T16:02:56.088920",
          "status": "completed"
        },
        "tags": [],
        "id": "owbLvM4LqXHg",
        "colab": {
          "base_uri": "https://localhost:8080/",
          "height": 295
        },
        "outputId": "5190426b-f264-44b8-dd97-e4a09e8687c4"
      },
      "source": [
        "# Plot de média de vendas por loja\n",
        "sns.lineplot(x= 'store', y='sales', data=df_train).set_title('Média de vendas por loja');"
      ],
      "execution_count": 47,
      "outputs": [
        {
          "output_type": "display_data",
          "data": {
            "image/png": "[encoded data removed]",
            "text/plain": [
              "<Figure size 432x288 with 1 Axes>"
            ]
          },
          "metadata": {
            "tags": [],
            "needs_background": "light"
          }
        }
      ]
    },
    {
      "cell_type": "code",
      "metadata": {
        "execution": {
          "iopub.execute_input": "2021-02-26T16:02:56.513795Z",
          "iopub.status.busy": "2021-02-26T16:02:56.512733Z",
          "iopub.status.idle": "2021-02-26T16:02:56.613135Z",
          "shell.execute_reply": "2021-02-26T16:02:56.613666Z"
        },
        "papermill": {
          "duration": 0.20685,
          "end_time": "2021-02-26T16:02:56.613839",
          "exception": false,
          "start_time": "2021-02-26T16:02:56.406989",
          "status": "completed"
        },
        "tags": [],
        "id": "3V_3DBHPqXHh",
        "colab": {
          "base_uri": "https://localhost:8080/",
          "height": 296
        },
        "outputId": "d709aaf7-9f07-4e5f-f174-ae7d23a1b8f3"
      },
      "source": [
        "# Plot de média de vendas por dia da semana - Segunda-feirea representa 0 e domingo 6 \n",
        "sns.lineplot(x= 'day_of_week', y='sales', data=df_train).set_title('Média de vendas por dia da semana - Segunda-feirea representa 0 e domingo 6 ');"
      ],
      "execution_count": 48,
      "outputs": [
        {
          "output_type": "display_data",
          "data": {
            "image/png": "[encoded data removed]",
            "text/plain": [
              "<Figure size 432x288 with 1 Axes>"
            ]
          },
          "metadata": {
            "tags": [],
            "needs_background": "light"
          }
        }
      ]
    },
    {
      "cell_type": "code",
      "metadata": {
        "execution": {
          "iopub.execute_input": "2021-02-26T16:02:56.829421Z",
          "iopub.status.busy": "2021-02-26T16:02:56.826605Z",
          "iopub.status.idle": "2021-02-26T16:02:56.893489Z",
          "shell.execute_reply": "2021-02-26T16:02:56.894011Z"
        },
        "papermill": {
          "duration": 0.177233,
          "end_time": "2021-02-26T16:02:56.894179",
          "exception": false,
          "start_time": "2021-02-26T16:02:56.716946",
          "status": "completed"
        },
        "tags": [],
        "id": "cgdvYX8LqXHh",
        "colab": {
          "base_uri": "https://localhost:8080/",
          "height": 295
        },
        "outputId": "584bcc54-6086-48d5-ca06-80e1ade4d610"
      },
      "source": [
        "# Plot de total de vendas por item\n",
        "sns.lineplot(x= 'item', y='sales', data=df_train).set_title('Total de vendas por item');"
      ],
      "execution_count": 49,
      "outputs": [
        {
          "output_type": "display_data",
          "data": {
            "image/png": "[encoded data removed]",
            "text/plain": [
              "<Figure size 432x288 with 1 Axes>"
            ]
          },
          "metadata": {
            "tags": [],
            "needs_background": "light"
          }
        }
      ]
    },
    {
      "cell_type": "markdown",
      "metadata": {
        "papermill": {
          "duration": 0.110707,
          "end_time": "2021-02-26T16:02:57.122711",
          "exception": false,
          "start_time": "2021-02-26T16:02:57.012004",
          "status": "completed"
        },
        "tags": [],
        "id": "oniYqfSUqXHh"
      },
      "source": [
        "# 5. Separação dos dados entre treino e validação"
      ]
    },
    {
      "cell_type": "code",
      "metadata": {
        "id": "LUQfduls4-P_"
      },
      "source": [
        "train_df = df_train[df_train.index <= '2016-12-31']\r\n",
        "test_df = df_train[df_train.index >= '2017-01-01']\r\n",
        "\r\n",
        "X_train = train_df.reset_index().drop(['date', 'sales'], axis =1)\r\n",
        "y_train = train_df['sales']\r\n",
        "X_test = test_df.reset_index().drop(['date', 'sales'], axis = 1)\r\n",
        "y_test = test_df['sales']"
      ],
      "execution_count": 13,
      "outputs": []
    },
    {
      "cell_type": "code",
      "metadata": {
        "execution": {
          "iopub.execute_input": "2021-02-26T16:02:58.343868Z",
          "iopub.status.busy": "2021-02-26T16:02:58.343003Z",
          "iopub.status.idle": "2021-02-26T16:02:58.347107Z",
          "shell.execute_reply": "2021-02-26T16:02:58.346539Z"
        },
        "papermill": {
          "duration": 0.12058,
          "end_time": "2021-02-26T16:02:58.347253",
          "exception": false,
          "start_time": "2021-02-26T16:02:58.226673",
          "status": "completed"
        },
        "tags": [],
        "id": "cvmTq6vVqXHi",
        "colab": {
          "base_uri": "https://localhost:8080/"
        },
        "outputId": "e78d6a0a-22de-469f-d556-d6cd55095d34"
      },
      "source": [
        "# Visualizando o shape de cada base apos separação\n",
        "X_train.shape, y_train.shape, X_test.shape, y_test.shape"
      ],
      "execution_count": 14,
      "outputs": [
        {
          "output_type": "execute_result",
          "data": {
            "text/plain": [
              "((730500, 7), (730500,), (182500, 7), (182500,))"
            ]
          },
          "metadata": {
            "tags": []
          },
          "execution_count": 14
        }
      ]
    },
    {
      "cell_type": "code",
      "metadata": {
        "execution": {
          "iopub.execute_input": "2021-02-26T16:02:58.575244Z",
          "iopub.status.busy": "2021-02-26T16:02:58.574210Z",
          "iopub.status.idle": "2021-02-26T16:02:58.577391Z",
          "shell.execute_reply": "2021-02-26T16:02:58.576825Z"
        },
        "papermill": {
          "duration": 0.119027,
          "end_time": "2021-02-26T16:02:58.577541",
          "exception": false,
          "start_time": "2021-02-26T16:02:58.458514",
          "status": "completed"
        },
        "tags": [],
        "id": "OESb-7EaqXHi"
      },
      "source": [
        "#Dividindo a base de dados em 75% para treino e 25% para teste\n",
        "#backtest_size = 0.75\n",
        "#train_df = df_train.reset_index().drop(['date'],axis=1).loc[0:np.round(df_train.shape[0]*backtest_size),:]\n",
        "#test_df = df_train.reset_index().drop(['date'],axis=1).loc[np.round(df_train.shape[0]*backtest_size):,:]"
      ],
      "execution_count": 15,
      "outputs": []
    },
    {
      "cell_type": "code",
      "metadata": {
        "execution": {
          "iopub.execute_input": "2021-02-26T16:02:58.807625Z",
          "iopub.status.busy": "2021-02-26T16:02:58.806647Z",
          "iopub.status.idle": "2021-02-26T16:02:58.810079Z",
          "shell.execute_reply": "2021-02-26T16:02:58.809358Z"
        },
        "papermill": {
          "duration": 0.118967,
          "end_time": "2021-02-26T16:02:58.810235",
          "exception": false,
          "start_time": "2021-02-26T16:02:58.691268",
          "status": "completed"
        },
        "tags": [],
        "id": "c_d2eZtxqXHj"
      },
      "source": [
        "#Visualização do shape da base de treino e validação\n",
        "#train_df.shape, test_df.shape"
      ],
      "execution_count": 53,
      "outputs": []
    },
    {
      "cell_type": "code",
      "metadata": {
        "execution": {
          "iopub.execute_input": "2021-02-26T16:02:59.094539Z",
          "iopub.status.busy": "2021-02-26T16:02:59.093527Z",
          "iopub.status.idle": "2021-02-26T16:02:59.096141Z",
          "shell.execute_reply": "2021-02-26T16:02:59.096730Z"
        },
        "papermill": {
          "duration": 0.170138,
          "end_time": "2021-02-26T16:02:59.096902",
          "exception": false,
          "start_time": "2021-02-26T16:02:58.926764",
          "status": "completed"
        },
        "tags": [],
        "id": "JughKBfcqXHj"
      },
      "source": [
        "#Divindindo entre X e y para treino e validação\n",
        "#X_train = train_df.drop(['sales'], axis=1)\n",
        "#y_train = train_df['sales'] \n",
        "#X_test = test_df.drop(['sales'], axis=1)\n",
        "#y_test = test_df['sales']"
      ],
      "execution_count": 54,
      "outputs": []
    },
    {
      "cell_type": "markdown",
      "metadata": {
        "papermill": {
          "duration": 0.119385,
          "end_time": "2021-02-26T16:02:59.336437",
          "exception": false,
          "start_time": "2021-02-26T16:02:59.217052",
          "status": "completed"
        },
        "tags": [],
        "id": "2_jHjyxyqXHj"
      },
      "source": [
        "# 6. Importação dos modelos e metricas"
      ]
    },
    {
      "cell_type": "code",
      "metadata": {
        "colab": {
          "base_uri": "https://localhost:8080/"
        },
        "id": "vBuI1A_X7RRW",
        "outputId": "e381a35d-ff3a-4f1b-c0de-39fdbc486a76"
      },
      "source": [
        "!pip install catboost"
      ],
      "execution_count": 16,
      "outputs": [
        {
          "output_type": "stream",
          "text": [
            "Collecting catboost\n",
            "\u001b[?25l  Downloading https://files.pythonhosted.org/packages/96/3b/bb419654adcf7efff42ed8a3f84e50c8f236424b7ed1cc8ccd290852e003/catboost-0.24.4-cp37-none-manylinux1_x86_64.whl (65.7MB)\n",
            "\u001b[K     |████████████████████████████████| 65.7MB 56kB/s \n",
            "\u001b[?25hRequirement already satisfied: matplotlib in /usr/local/lib/python3.7/dist-packages (from catboost) (3.2.2)\n",
            "Requirement already satisfied: scipy in /usr/local/lib/python3.7/dist-packages (from catboost) (1.4.1)\n",
            "Requirement already satisfied: graphviz in /usr/local/lib/python3.7/dist-packages (from catboost) (0.10.1)\n",
            "Requirement already satisfied: pandas>=0.24.0 in /usr/local/lib/python3.7/dist-packages (from catboost) (1.1.5)\n",
            "Requirement already satisfied: plotly in /usr/local/lib/python3.7/dist-packages (from catboost) (4.4.1)\n",
            "Requirement already satisfied: numpy>=1.16.0 in /usr/local/lib/python3.7/dist-packages (from catboost) (1.19.5)\n",
            "Requirement already satisfied: six in /usr/local/lib/python3.7/dist-packages (from catboost) (1.15.0)\n",
            "Requirement already satisfied: python-dateutil>=2.1 in /usr/local/lib/python3.7/dist-packages (from matplotlib->catboost) (2.8.1)\n",
            "Requirement already satisfied: kiwisolver>=1.0.1 in /usr/local/lib/python3.7/dist-packages (from matplotlib->catboost) (1.3.1)\n",
            "Requirement already satisfied: cycler>=0.10 in /usr/local/lib/python3.7/dist-packages (from matplotlib->catboost) (0.10.0)\n",
            "Requirement already satisfied: pyparsing!=2.0.4,!=2.1.2,!=2.1.6,>=2.0.1 in /usr/local/lib/python3.7/dist-packages (from matplotlib->catboost) (2.4.7)\n",
            "Requirement already satisfied: pytz>=2017.2 in /usr/local/lib/python3.7/dist-packages (from pandas>=0.24.0->catboost) (2018.9)\n",
            "Requirement already satisfied: retrying>=1.3.3 in /usr/local/lib/python3.7/dist-packages (from plotly->catboost) (1.3.3)\n",
            "Installing collected packages: catboost\n",
            "Successfully installed catboost-0.24.4\n"
          ],
          "name": "stdout"
        }
      ]
    },
    {
      "cell_type": "code",
      "metadata": {
        "execution": {
          "iopub.execute_input": "2021-02-26T16:02:59.581839Z",
          "iopub.status.busy": "2021-02-26T16:02:59.581104Z",
          "iopub.status.idle": "2021-02-26T16:03:02.156711Z",
          "shell.execute_reply": "2021-02-26T16:03:02.156010Z"
        },
        "papermill": {
          "duration": 2.701118,
          "end_time": "2021-02-26T16:03:02.156906",
          "exception": false,
          "start_time": "2021-02-26T16:02:59.455788",
          "status": "completed"
        },
        "tags": [],
        "id": "rQTKOH5hqXHj"
      },
      "source": [
        "# Importação dos modelos e métricas de avaliação\n",
        "from xgboost import XGBRegressor\n",
        "from lightgbm import LGBMRegressor\n",
        "from catboost import CatBoostRegressor\n",
        "from sklearn.metrics import median_absolute_error, mean_squared_error"
      ],
      "execution_count": 17,
      "outputs": []
    },
    {
      "cell_type": "code",
      "metadata": {
        "execution": {
          "iopub.execute_input": "2021-02-26T16:03:02.510322Z",
          "iopub.status.busy": "2021-02-26T16:03:02.509108Z",
          "iopub.status.idle": "2021-02-26T16:03:02.512052Z",
          "shell.execute_reply": "2021-02-26T16:03:02.511203Z"
        },
        "papermill": {
          "duration": 0.189453,
          "end_time": "2021-02-26T16:03:02.512251",
          "exception": false,
          "start_time": "2021-02-26T16:03:02.322798",
          "status": "completed"
        },
        "tags": [],
        "id": "OpLts1lYqXHk"
      },
      "source": [
        "# Função para avaliação do modelo - MAPE (Erro Absoluto Médio Percentual) - Essa métrica mede a média do erro percentual em relação ao valor real com o previsto.\n",
        "def mean_absolute_percentage_error(y_true, y_pred): \n",
        "    y_true, y_pred = np.array(y_true), np.array(y_pred)\n",
        "    return np.mean(np.abs((y_true - y_pred) / y_true)) * 100"
      ],
      "execution_count": 18,
      "outputs": []
    },
    {
      "cell_type": "markdown",
      "metadata": {
        "papermill": {
          "duration": 0.11766,
          "end_time": "2021-02-26T16:03:02.752888",
          "exception": false,
          "start_time": "2021-02-26T16:03:02.635228",
          "status": "completed"
        },
        "tags": [],
        "id": "yPxs9nTPqXHk"
      },
      "source": [
        "# 7. Modelos que serão usados são XGBoostRegressor, LGBMRegressor e CatBoostRegressor"
      ]
    },
    {
      "cell_type": "code",
      "metadata": {
        "execution": {
          "iopub.execute_input": "2021-02-26T16:03:02.992852Z",
          "iopub.status.busy": "2021-02-26T16:03:02.991860Z",
          "iopub.status.idle": "2021-02-26T16:05:39.051802Z",
          "shell.execute_reply": "2021-02-26T16:05:39.052407Z"
        },
        "papermill": {
          "duration": 156.187426,
          "end_time": "2021-02-26T16:05:39.052603",
          "exception": false,
          "start_time": "2021-02-26T16:03:02.865177",
          "status": "completed"
        },
        "tags": [],
        "id": "Kp_4q_3RqXHk",
        "colab": {
          "base_uri": "https://localhost:8080/"
        },
        "outputId": "d3f39d91-6718-4a4c-becc-aabf0b6ab84b"
      },
      "source": [
        "# Modelo XGBoostRegressor\n",
        "xgb = XGBRegressor(objective = 'reg:squarederror',random_state=2021)\n",
        "xgb.fit(X_train, y_train)\n",
        "pred_xgb = xgb.predict(X_test)\n",
        "print('XGB RMSE: {}'.format(mean_squared_error(y_test, pred_xgb, squared = False)))\n",
        "print('XGB MAPE: {}'.format(mean_absolute_percentage_error(y_test, pred_xgb)))\n",
        "\n",
        "# Modelo LightGBMRegressor\n",
        "lgbm = LGBMRegressor(random_state=2021)\n",
        "lgbm.fit(X_train, y_train)\n",
        "pred_lgbm = lgbm.predict(X_test)\n",
        "print('LGBM RMSE: {}'.format(mean_squared_error(y_test, pred_lgbm, squared = False)))\n",
        "print('LGBM MAPE: {}'.format(mean_absolute_percentage_error(y_test, pred_lgbm)))\n",
        "\n",
        "\n",
        "# Modelo CatBoostRegressor\n",
        "cat = CatBoostRegressor(random_state=2021, verbose=0)\n",
        "cat.fit(X_train, y_train)\n",
        "pred_cat = cat.predict(X_test)\n",
        "print('Cat RMSE: {}'.format(mean_squared_error(y_test, pred_cat, squared = False)))\n",
        "print('Cat MAPE: {}'.format(mean_absolute_percentage_error(y_test, pred_cat)))\n"
      ],
      "execution_count": 59,
      "outputs": [
        {
          "output_type": "stream",
          "text": [
            "XGB RMSE: 18.64516260720374\n",
            "XGB MAPE: 27.555711683502587\n",
            "LGBM RMSE: 9.75088515155836\n",
            "LGBM MAPE: 14.20028087859044\n",
            "Cat RMSE: 8.484024257317166\n",
            "Cat MAPE: 12.529336696478687\n"
          ],
          "name": "stdout"
        }
      ]
    },
    {
      "cell_type": "markdown",
      "metadata": {
        "papermill": {
          "duration": 0.112642,
          "end_time": "2021-02-26T16:05:39.284879",
          "exception": false,
          "start_time": "2021-02-26T16:05:39.172237",
          "status": "completed"
        },
        "tags": [],
        "id": "4EFDFDRqqXHk"
      },
      "source": [
        "### -> O modelo que obteve o melhor resultado foi o CatBoostRegressor com o Cat RMSE: 8.48 e MAPE: 12.52\n",
        "### -> Nesse problema de negócio optei por usar a métrica MAPE (Erro Absoluto Médio Percentual) que mede a média de erro percentual em relação ao valor real com o valor previsto"
      ]
    },
    {
      "cell_type": "markdown",
      "metadata": {
        "papermill": {
          "duration": 0.106854,
          "end_time": "2021-02-26T16:05:39.501406",
          "exception": false,
          "start_time": "2021-02-26T16:05:39.394552",
          "status": "completed"
        },
        "tags": [],
        "id": "hDBdPKEOqXHl"
      },
      "source": [
        "# 8. Hiperparâmentro para CatBoostRegressor"
      ]
    },
    {
      "cell_type": "code",
      "metadata": {
        "colab": {
          "base_uri": "https://localhost:8080/"
        },
        "id": "VudiD5Wx-O6Y",
        "outputId": "f1b26982-17b7-494e-8e60-fe5f39e5c3f1"
      },
      "source": [
        "!pip install scikit-optimize"
      ],
      "execution_count": 20,
      "outputs": [
        {
          "output_type": "stream",
          "text": [
            "Collecting scikit-optimize\n",
            "\u001b[?25l  Downloading https://files.pythonhosted.org/packages/8b/03/be33e89f55866065a02e515c5b319304a801a9f1027a9b311a9b1d1f8dc7/scikit_optimize-0.8.1-py2.py3-none-any.whl (101kB)\n",
            "\r\u001b[K     |███▎                            | 10kB 11.4MB/s eta 0:00:01\r\u001b[K     |██████▌                         | 20kB 17.0MB/s eta 0:00:01\r\u001b[K     |█████████▊                      | 30kB 11.9MB/s eta 0:00:01\r\u001b[K     |█████████████                   | 40kB 8.6MB/s eta 0:00:01\r\u001b[K     |████████████████▏               | 51kB 8.8MB/s eta 0:00:01\r\u001b[K     |███████████████████▍            | 61kB 9.3MB/s eta 0:00:01\r\u001b[K     |██████████████████████▊         | 71kB 8.2MB/s eta 0:00:01\r\u001b[K     |██████████████████████████      | 81kB 9.0MB/s eta 0:00:01\r\u001b[K     |█████████████████████████████▏  | 92kB 8.4MB/s eta 0:00:01\r\u001b[K     |████████████████████████████████| 102kB 5.1MB/s \n",
            "\u001b[?25hRequirement already satisfied: joblib>=0.11 in /usr/local/lib/python3.7/dist-packages (from scikit-optimize) (1.0.1)\n",
            "Requirement already satisfied: scipy>=0.19.1 in /usr/local/lib/python3.7/dist-packages (from scikit-optimize) (1.4.1)\n",
            "Requirement already satisfied: numpy>=1.13.3 in /usr/local/lib/python3.7/dist-packages (from scikit-optimize) (1.19.5)\n",
            "Collecting pyaml>=16.9\n",
            "  Downloading https://files.pythonhosted.org/packages/15/c4/1310a054d33abc318426a956e7d6df0df76a6ddfa9c66f6310274fb75d42/pyaml-20.4.0-py2.py3-none-any.whl\n",
            "Requirement already satisfied: scikit-learn>=0.20.0 in /usr/local/lib/python3.7/dist-packages (from scikit-optimize) (0.22.2.post1)\n",
            "Requirement already satisfied: PyYAML in /usr/local/lib/python3.7/dist-packages (from pyaml>=16.9->scikit-optimize) (3.13)\n",
            "Installing collected packages: pyaml, scikit-optimize\n",
            "Successfully installed pyaml-20.4.0 scikit-optimize-0.8.1\n"
          ],
          "name": "stdout"
        }
      ]
    },
    {
      "cell_type": "code",
      "metadata": {
        "execution": {
          "iopub.execute_input": "2021-02-26T16:05:39.719668Z",
          "iopub.status.busy": "2021-02-26T16:05:39.718984Z",
          "iopub.status.idle": "2021-02-26T16:05:39.771546Z",
          "shell.execute_reply": "2021-02-26T16:05:39.770884Z"
        },
        "papermill": {
          "duration": 0.163426,
          "end_time": "2021-02-26T16:05:39.771690",
          "exception": false,
          "start_time": "2021-02-26T16:05:39.608264",
          "status": "completed"
        },
        "tags": [],
        "id": "qwA2lpuxqXHl"
      },
      "source": [
        "# Importação das bibliotecas para execução de hiperparâmentro\n",
        "from skopt import gp_minimize"
      ],
      "execution_count": 21,
      "outputs": []
    },
    {
      "cell_type": "code",
      "metadata": {
        "execution": {
          "iopub.execute_input": "2021-02-26T16:05:39.999493Z",
          "iopub.status.busy": "2021-02-26T16:05:39.997595Z",
          "iopub.status.idle": "2021-02-26T16:05:40.000219Z",
          "shell.execute_reply": "2021-02-26T16:05:40.000716Z"
        },
        "papermill": {
          "duration": 0.124078,
          "end_time": "2021-02-26T16:05:40.000867",
          "exception": false,
          "start_time": "2021-02-26T16:05:39.876789",
          "status": "completed"
        },
        "tags": [],
        "id": "tuuaWN7-qXHl"
      },
      "source": [
        "# Função que será fornecida ao Bayesian Optimization para encontrar o melhor parâmentro\n",
        "def train_cat(params):\n",
        "    iterations = params[0]\n",
        "    learning_rate = params[1]\n",
        "    l2_leaf_reg = params[2]\n",
        "    bagging_temperature = params[3]\n",
        "\n",
        "    print('Parameters: {} \\n'.format(params))\n",
        "        \n",
        "    cat = CatBoostRegressor(iterations = iterations, learning_rate = learning_rate, l2_leaf_reg = l2_leaf_reg, bagging_temperature = bagging_temperature,\n",
        "                            random_state=2021, verbose=0)\n",
        "    cat.fit(X_train, y_train)\n",
        "    pred_cat = cat.predict(X_test)\n",
        "    result = mean_absolute_percentage_error(y_test, pred_cat)\n",
        "    print('Cat RMSE: {}'.format(mean_squared_error(y_test, pred_cat, squared = False)))\n",
        "    print('Cat MAPE: {}\\n'.format(mean_absolute_percentage_error(y_test, pred_cat)))\n",
        "\n",
        "  \n",
        "    return result\n",
        "          \n",
        "space_cat = [(500, 3000),#iterations\n",
        "            (1e-3, 1e-1, 'log-uniform'), #learning_rate\n",
        "            (1.0, 6.0), #l2_leaf_reg\n",
        "            (0, 10)]#bagging_temperature\n"
      ],
      "execution_count": 62,
      "outputs": []
    },
    {
      "cell_type": "code",
      "metadata": {
        "_kg_hide-output": false,
        "execution": {
          "iopub.execute_input": "2021-02-26T16:05:40.252190Z",
          "iopub.status.busy": "2021-02-26T16:05:40.251392Z",
          "iopub.status.idle": "2021-02-26T18:11:56.338157Z",
          "shell.execute_reply": "2021-02-26T18:11:56.336746Z"
        },
        "papermill": {
          "duration": 7576.23037,
          "end_time": "2021-02-26T18:11:56.338314",
          "exception": false,
          "start_time": "2021-02-26T16:05:40.107944",
          "status": "completed"
        },
        "tags": [],
        "id": "QR91iQLDqXHl",
        "colab": {
          "base_uri": "https://localhost:8080/"
        },
        "outputId": "ea72d244-5dd9-49e4-e7b0-cb2ab6387881"
      },
      "source": [
        "# Bayesian Optimization\n",
        "result_lgbm_gp = gp_minimize(train_cat, space_cat, random_state= 1, verbose = 1, n_calls=30, n_random_starts=10)\n",
        "print('Result LGBM GP: {}'.format(result_lgbm_gp.x))"
      ],
      "execution_count": 63,
      "outputs": [
        {
          "output_type": "stream",
          "text": [
            "Iteration No: 1 started. Evaluating function at random point.\n",
            "Parameters: [2993, 0.07330181339535062, 1.6406222396467838, 10] \n",
            "\n",
            "Cat RMSE: 8.290443715875089\n",
            "Cat MAPE: 12.329367109707604\n",
            "\n",
            "Iteration No: 1 ended. Evaluation done at random point.\n",
            "Time taken: 311.2741\n",
            "Function value obtained: 12.3294\n",
            "Current minimum: 12.3294\n",
            "Iteration No: 2 started. Evaluating function at random point.\n",
            "Parameters: [1090, 0.006210998932353835, 2.9395537058100376, 7] \n",
            "\n",
            "Cat RMSE: 18.75652114657067\n",
            "Cat MAPE: 28.652581786129193\n",
            "\n",
            "Iteration No: 2 ended. Evaluation done at random point.\n",
            "Time taken: 107.5940\n",
            "Function value obtained: 28.6526\n",
            "Current minimum: 12.3294\n",
            "Iteration No: 3 started. Evaluating function at random point.\n",
            "Parameters: [2839, 0.049274455443298865, 2.566367584661376, 5] \n",
            "\n",
            "Cat RMSE: 8.4396486762197\n",
            "Cat MAPE: 12.475802284383859\n",
            "\n",
            "Iteration No: 3 ended. Evaluation done at random point.\n",
            "Time taken: 289.0459\n",
            "Function value obtained: 12.4758\n",
            "Current minimum: 12.3294\n",
            "Iteration No: 4 started. Evaluating function at random point.\n",
            "Parameters: [1609, 0.0028784217488024557, 3.6720695447350855, 9] \n",
            "\n",
            "Cat RMSE: 21.185404707953257\n",
            "Cat MAPE: 33.54375961754394\n",
            "\n",
            "Iteration No: 4 ended. Evaluation done at random point.\n",
            "Time taken: 157.9290\n",
            "Function value obtained: 33.5438\n",
            "Current minimum: 12.3294\n",
            "Iteration No: 5 started. Evaluating function at random point.\n",
            "Parameters: [1643, 0.007267702383040958, 5.6956389471181295, 8] \n",
            "\n",
            "Cat RMSE: 14.619279440959758\n",
            "Cat MAPE: 20.56047214630204\n",
            "\n",
            "Iteration No: 5 ended. Evaluation done at random point.\n",
            "Time taken: 162.8980\n",
            "Function value obtained: 20.5605\n",
            "Current minimum: 12.3294\n",
            "Iteration No: 6 started. Evaluating function at random point.\n",
            "Parameters: [2290, 0.04031948793713315, 1.4640040432036896, 5] \n",
            "\n",
            "Cat RMSE: 8.74197400686859\n",
            "Cat MAPE: 12.812984189980734\n",
            "\n",
            "Iteration No: 6 ended. Evaluation done at random point.\n",
            "Time taken: 232.1448\n",
            "Function value obtained: 12.8130\n",
            "Current minimum: 12.3294\n",
            "Iteration No: 7 started. Evaluating function at random point.\n",
            "Parameters: [2663, 0.045529597892867466, 5.14801679697092, 3] \n",
            "\n",
            "Cat RMSE: 8.54164038839833\n",
            "Cat MAPE: 12.577993057336512\n",
            "\n",
            "Iteration No: 7 ended. Evaluation done at random point.\n",
            "Time taken: 270.5421\n",
            "Function value obtained: 12.5780\n",
            "Current minimum: 12.3294\n",
            "Iteration No: 8 started. Evaluating function at random point.\n",
            "Parameters: [648, 0.021930881089764206, 3.965327591490285, 7] \n",
            "\n",
            "Cat RMSE: 13.504852205922752\n",
            "Cat MAPE: 18.750702446131243\n",
            "\n",
            "Iteration No: 8 ended. Evaluation done at random point.\n",
            "Time taken: 64.1975\n",
            "Function value obtained: 18.7507\n",
            "Current minimum: 12.3294\n",
            "Iteration No: 9 started. Evaluating function at random point.\n",
            "Parameters: [1529, 0.002483715204721354, 2.4481482027290626, 1] \n",
            "\n",
            "Cat RMSE: 22.112877401244624\n",
            "Cat MAPE: 35.36359692617806\n",
            "\n",
            "Iteration No: 9 ended. Evaluation done at random point.\n",
            "Time taken: 149.9016\n",
            "Function value obtained: 35.3636\n",
            "Current minimum: 12.3294\n",
            "Iteration No: 10 started. Evaluating function at random point.\n",
            "Parameters: [2458, 0.006684634760950331, 1.1708565559291952, 6] \n",
            "\n",
            "Cat RMSE: 12.810810009537803\n",
            "Cat MAPE: 17.751500831693036\n",
            "\n",
            "Iteration No: 10 ended. Evaluation done at random point.\n",
            "Time taken: 244.9570\n",
            "Function value obtained: 17.7515\n",
            "Current minimum: 12.3294\n",
            "Iteration No: 11 started. Searching for the next optimal point.\n",
            "Parameters: [500, 0.1, 6.0, 10] \n",
            "\n",
            "Cat RMSE: 9.507187595506661\n",
            "Cat MAPE: 13.750376889726853\n",
            "\n",
            "Iteration No: 11 ended. Search finished for the next optimal point.\n",
            "Time taken: 52.0995\n",
            "Function value obtained: 13.7504\n",
            "Current minimum: 12.3294\n",
            "Iteration No: 12 started. Searching for the next optimal point.\n",
            "Parameters: [2445, 0.01971405837428957, 6.0, 10] \n",
            "\n",
            "Cat RMSE: 9.63229799594279\n",
            "Cat MAPE: 13.87171934462331\n",
            "\n",
            "Iteration No: 12 ended. Search finished for the next optimal point.\n",
            "Time taken: 248.8956\n",
            "Function value obtained: 13.8717\n",
            "Current minimum: 12.3294\n",
            "Iteration No: 13 started. Searching for the next optimal point.\n",
            "Parameters: [2902, 0.06801621942767651, 1.6765597495617768, 7] \n",
            "\n",
            "Cat RMSE: 8.316322068082616\n",
            "Cat MAPE: 12.347369770806983\n",
            "\n",
            "Iteration No: 13 ended. Search finished for the next optimal point.\n",
            "Time taken: 297.0182\n",
            "Function value obtained: 12.3474\n",
            "Current minimum: 12.3294\n",
            "Iteration No: 14 started. Searching for the next optimal point.\n",
            "Parameters: [1719, 0.1, 6.0, 8] \n",
            "\n",
            "Cat RMSE: 8.358017914130652\n",
            "Cat MAPE: 12.388583087238366\n",
            "\n",
            "Iteration No: 14 ended. Search finished for the next optimal point.\n",
            "Time taken: 176.0304\n",
            "Function value obtained: 12.3886\n",
            "Current minimum: 12.3294\n",
            "Iteration No: 15 started. Searching for the next optimal point.\n",
            "Parameters: [3000, 0.07106722855296208, 6.0, 0] \n",
            "\n",
            "Cat RMSE: 8.294316746597895\n",
            "Cat MAPE: 12.33017122816777\n",
            "\n",
            "Iteration No: 15 ended. Search finished for the next optimal point.\n",
            "Time taken: 306.3979\n",
            "Function value obtained: 12.3302\n",
            "Current minimum: 12.3294\n",
            "Iteration No: 16 started. Searching for the next optimal point.\n",
            "Parameters: [2128, 0.09736061840135231, 6.0, 10] \n",
            "\n",
            "Cat RMSE: 8.306443274667574\n",
            "Cat MAPE: 12.341084243844119\n",
            "\n",
            "Iteration No: 16 ended. Search finished for the next optimal point.\n",
            "Time taken: 217.3072\n",
            "Function value obtained: 12.3411\n",
            "Current minimum: 12.3294\n",
            "Iteration No: 17 started. Searching for the next optimal point.\n",
            "Parameters: [3000, 0.08340936811067828, 1.0, 0] \n",
            "\n",
            "Cat RMSE: 8.25703470311075\n",
            "Cat MAPE: 12.298049013154218\n",
            "\n",
            "Iteration No: 17 ended. Search finished for the next optimal point.\n",
            "Time taken: 305.1738\n",
            "Function value obtained: 12.2980\n",
            "Current minimum: 12.2980\n",
            "Iteration No: 18 started. Searching for the next optimal point.\n",
            "Parameters: [3000, 0.09790585398987577, 1.0, 0] \n",
            "\n",
            "Cat RMSE: 8.229708443677868\n",
            "Cat MAPE: 12.276015310950243\n",
            "\n",
            "Iteration No: 18 ended. Search finished for the next optimal point.\n",
            "Time taken: 307.5939\n",
            "Function value obtained: 12.2760\n",
            "Current minimum: 12.2760\n",
            "Iteration No: 19 started. Searching for the next optimal point.\n",
            "Parameters: [2820, 0.1, 1.0, 0] \n",
            "\n",
            "Cat RMSE: 8.242829657036843\n",
            "Cat MAPE: 12.289671637332193\n",
            "\n",
            "Iteration No: 19 ended. Search finished for the next optimal point.\n",
            "Time taken: 286.8531\n",
            "Function value obtained: 12.2897\n",
            "Current minimum: 12.2760\n",
            "Iteration No: 20 started. Searching for the next optimal point.\n",
            "Parameters: [3000, 0.1, 6.0, 0] \n",
            "\n",
            "Cat RMSE: 8.2270455954037\n",
            "Cat MAPE: 12.273797654402783\n",
            "\n",
            "Iteration No: 20 ended. Search finished for the next optimal point.\n",
            "Time taken: 309.0760\n",
            "Function value obtained: 12.2738\n",
            "Current minimum: 12.2738\n",
            "Iteration No: 21 started. Searching for the next optimal point.\n",
            "Parameters: [2006, 0.0769949349306084, 1.0, 0] \n",
            "\n",
            "Cat RMSE: 8.3993673684669\n",
            "Cat MAPE: 12.428088805543975\n",
            "\n",
            "Iteration No: 21 ended. Search finished for the next optimal point.\n",
            "Time taken: 204.6656\n",
            "Function value obtained: 12.4281\n",
            "Current minimum: 12.2738\n",
            "Iteration No: 22 started. Searching for the next optimal point.\n",
            "Parameters: [3000, 0.1, 6.0, 10] \n",
            "\n",
            "Cat RMSE: 8.2270455954037\n",
            "Cat MAPE: 12.273797654402783\n",
            "\n",
            "Iteration No: 22 ended. Search finished for the next optimal point.\n",
            "Time taken: 310.3190\n",
            "Function value obtained: 12.2738\n",
            "Current minimum: 12.2738\n",
            "Iteration No: 23 started. Searching for the next optimal point.\n",
            "Parameters: [2457, 0.1, 1.0, 0] \n",
            "\n",
            "Cat RMSE: 8.269679124408468\n",
            "Cat MAPE: 12.311861071792581\n",
            "\n",
            "Iteration No: 23 ended. Search finished for the next optimal point.\n",
            "Time taken: 254.3406\n",
            "Function value obtained: 12.3119\n",
            "Current minimum: 12.2738\n",
            "Iteration No: 24 started. Searching for the next optimal point.\n",
            "Parameters: [2599, 0.08828374701306423, 6.0, 10] \n",
            "\n",
            "Cat RMSE: 8.275223071064655\n",
            "Cat MAPE: 12.32002361640021\n",
            "\n",
            "Iteration No: 24 ended. Search finished for the next optimal point.\n",
            "Time taken: 268.2106\n",
            "Function value obtained: 12.3200\n",
            "Current minimum: 12.2738\n",
            "Iteration No: 25 started. Searching for the next optimal point.\n",
            "Parameters: [3000, 0.09313210993508962, 6.0, 10] \n",
            "\n",
            "Cat RMSE: 8.239652818508707\n",
            "Cat MAPE: 12.28756504994397\n",
            "\n",
            "Iteration No: 25 ended. Search finished for the next optimal point.\n",
            "Time taken: 305.4795\n",
            "Function value obtained: 12.2876\n",
            "Current minimum: 12.2738\n",
            "Iteration No: 26 started. Searching for the next optimal point.\n",
            "Parameters: [2453, 0.06911756818819877, 1.0, 0] \n",
            "\n",
            "Cat RMSE: 8.356839273509143\n",
            "Cat MAPE: 12.391134849640892\n",
            "\n",
            "Iteration No: 26 ended. Search finished for the next optimal point.\n",
            "Time taken: 252.3336\n",
            "Function value obtained: 12.3911\n",
            "Current minimum: 12.2738\n",
            "Iteration No: 27 started. Searching for the next optimal point.\n",
            "Parameters: [1456, 0.07233810508953566, 6.0, 10] \n",
            "\n",
            "Cat RMSE: 8.62313110946109\n",
            "Cat MAPE: 12.68063764795656\n",
            "\n",
            "Iteration No: 27 ended. Search finished for the next optimal point.\n",
            "Time taken: 148.4770\n",
            "Function value obtained: 12.6806\n",
            "Current minimum: 12.2738\n",
            "Iteration No: 28 started. Searching for the next optimal point.\n",
            "Parameters: [2606, 0.1, 6.0, 0] \n",
            "\n",
            "Cat RMSE: 8.250552591456346\n",
            "Cat MAPE: 12.29288102058085\n",
            "\n",
            "Iteration No: 28 ended. Search finished for the next optimal point.\n",
            "Time taken: 267.4771\n",
            "Function value obtained: 12.2929\n",
            "Current minimum: 12.2738\n",
            "Iteration No: 29 started. Searching for the next optimal point.\n",
            "Parameters: [2012, 0.1, 6.0, 0] \n",
            "\n",
            "Cat RMSE: 8.312589241784575\n",
            "Cat MAPE: 12.34892534294575\n",
            "\n",
            "Iteration No: 29 ended. Search finished for the next optimal point.\n",
            "Time taken: 207.7992\n",
            "Function value obtained: 12.3489\n",
            "Current minimum: 12.2738\n",
            "Iteration No: 30 started. Searching for the next optimal point.\n",
            "Parameters: [1324, 0.1, 6.0, 0] \n",
            "\n",
            "Cat RMSE: 8.466299436193756\n",
            "Cat MAPE: 12.499337700230951\n",
            "\n",
            "Iteration No: 30 ended. Search finished for the next optimal point.\n",
            "Time taken: 135.5271\n",
            "Function value obtained: 12.4993\n",
            "Current minimum: 12.2738\n",
            "Result LGBM GP: [3000, 0.1, 6.0, 0]\n"
          ],
          "name": "stdout"
        }
      ]
    },
    {
      "cell_type": "markdown",
      "metadata": {
        "papermill": {
          "duration": 0.12255,
          "end_time": "2021-02-26T18:11:56.586629",
          "exception": false,
          "start_time": "2021-02-26T18:11:56.464079",
          "status": "completed"
        },
        "tags": [],
        "id": "6N4z2YnDqXHl"
      },
      "source": [
        "### -> Result LGBM GP -> Parameters: iterations = 3000, learning_rate = 0.1, l2_leaf_reg = 6.0, bagging_temperature = 0\n",
        "### -> O resultado obtidido pelo melhor parâmentro foi de MAPE: 12.2738"
      ]
    },
    {
      "cell_type": "code",
      "metadata": {
        "execution": {
          "iopub.execute_input": "2021-02-26T18:11:56.852331Z",
          "iopub.status.busy": "2021-02-26T18:11:56.851604Z",
          "iopub.status.idle": "2021-02-26T18:17:26.209127Z",
          "shell.execute_reply": "2021-02-26T18:17:26.209678Z"
        },
        "papermill": {
          "duration": 329.500993,
          "end_time": "2021-02-26T18:17:26.209861",
          "exception": false,
          "start_time": "2021-02-26T18:11:56.708868",
          "status": "completed"
        },
        "tags": [],
        "id": "26jF5sD8qXHm",
        "colab": {
          "base_uri": "https://localhost:8080/"
        },
        "outputId": "bf4c2d98-6a8f-48ff-be70-08230bcc68a6"
      },
      "source": [
        "# Parametros da Gaussian Processes Optimize\n",
        "cat = CatBoostRegressor(iterations = 3000, learning_rate = 0.1, l2_leaf_reg = 6.0, bagging_temperature = 0, random_state=2021, verbose=0)\n",
        "cat.fit(X_train, y_train)\n",
        "pred_cat = cat.predict(X_test)\n",
        "result = mean_absolute_percentage_error(y_test, pred_cat)\n",
        "print('Cat RMSE: {}'.format(mean_squared_error(y_test, pred_cat, squared = False)))\n",
        "print('Cat MAE: {}\\n'.format(mean_absolute_percentage_error(y_test, pred_cat)))\n",
        "print('Cat MAPE: {}\\n'.format(result))"
      ],
      "execution_count": 22,
      "outputs": [
        {
          "output_type": "stream",
          "text": [
            "Cat RMSE: 8.2270455954037\n",
            "Cat MAE: 12.273797654402783\n",
            "\n",
            "Cat MAPE: 12.273797654402783\n",
            "\n"
          ],
          "name": "stdout"
        }
      ]
    },
    {
      "cell_type": "markdown",
      "metadata": {
        "papermill": {
          "duration": 0.120254,
          "end_time": "2021-02-26T18:17:26.452668",
          "exception": false,
          "start_time": "2021-02-26T18:17:26.332414",
          "status": "completed"
        },
        "tags": [],
        "id": "Q5liF7JvqXHm"
      },
      "source": [
        "# 9. Predição da base de teste"
      ]
    },
    {
      "cell_type": "code",
      "metadata": {
        "execution": {
          "iopub.execute_input": "2021-02-26T18:17:26.741567Z",
          "iopub.status.busy": "2021-02-26T18:17:26.740421Z",
          "iopub.status.idle": "2021-02-26T18:17:26.744007Z",
          "shell.execute_reply": "2021-02-26T18:17:26.743397Z"
        },
        "papermill": {
          "duration": 0.170451,
          "end_time": "2021-02-26T18:17:26.744128",
          "exception": false,
          "start_time": "2021-02-26T18:17:26.573677",
          "status": "completed"
        },
        "tags": [],
        "id": "LR8i7LLDqXHm"
      },
      "source": [
        "# Carregando dados de teste\n",
        "test_df = test.copy()"
      ],
      "execution_count": 23,
      "outputs": []
    },
    {
      "cell_type": "code",
      "metadata": {
        "execution": {
          "iopub.execute_input": "2021-02-26T18:17:26.992646Z",
          "iopub.status.busy": "2021-02-26T18:17:26.991941Z",
          "iopub.status.idle": "2021-02-26T18:17:27.007072Z",
          "shell.execute_reply": "2021-02-26T18:17:27.006597Z"
        },
        "papermill": {
          "duration": 0.141249,
          "end_time": "2021-02-26T18:17:27.007195",
          "exception": false,
          "start_time": "2021-02-26T18:17:26.865946",
          "status": "completed"
        },
        "tags": [],
        "id": "5hxX5NtuqXHm"
      },
      "source": [
        "# Criando variáveis sazonais\n",
        "test_df['day'] = pd.DatetimeIndex(test_df['date']).day\n",
        "test_df['month'] = pd.DatetimeIndex(test_df['date']).month\n",
        "test_df['year'] = pd.DatetimeIndex(test_df['date']).year\n",
        "test_df['day_of_week'] = pd.DatetimeIndex(test_df.index).dayofweek\n",
        "test_df['year_of_week'] = pd.DatetimeIndex(test_df.index).dayofyear"
      ],
      "execution_count": 24,
      "outputs": []
    },
    {
      "cell_type": "code",
      "metadata": {
        "execution": {
          "iopub.execute_input": "2021-02-26T18:17:27.262097Z",
          "iopub.status.busy": "2021-02-26T18:17:27.261247Z",
          "iopub.status.idle": "2021-02-26T18:17:27.265763Z",
          "shell.execute_reply": "2021-02-26T18:17:27.266226Z"
        },
        "papermill": {
          "duration": 0.137737,
          "end_time": "2021-02-26T18:17:27.266404",
          "exception": false,
          "start_time": "2021-02-26T18:17:27.128667",
          "status": "completed"
        },
        "tags": [],
        "id": "RugWphtDqXHn",
        "colab": {
          "base_uri": "https://localhost:8080/",
          "height": 204
        },
        "outputId": "77c941b5-11c5-44f9-9408-131e525565b8"
      },
      "source": [
        "# Visualizando a base após criação de novas variáveis\n",
        "test_df.head()"
      ],
      "execution_count": 25,
      "outputs": [
        {
          "output_type": "execute_result",
          "data": {
            "text/html": [
              "<div>\n",
              "<style scoped>\n",
              "    .dataframe tbody tr th:only-of-type {\n",
              "        vertical-align: middle;\n",
              "    }\n",
              "\n",
              "    .dataframe tbody tr th {\n",
              "        vertical-align: top;\n",
              "    }\n",
              "\n",
              "    .dataframe thead th {\n",
              "        text-align: right;\n",
              "    }\n",
              "</style>\n",
              "<table border=\"1\" class=\"dataframe\">\n",
              "  <thead>\n",
              "    <tr style=\"text-align: right;\">\n",
              "      <th></th>\n",
              "      <th>id</th>\n",
              "      <th>date</th>\n",
              "      <th>store</th>\n",
              "      <th>item</th>\n",
              "      <th>day</th>\n",
              "      <th>month</th>\n",
              "      <th>year</th>\n",
              "      <th>day_of_week</th>\n",
              "      <th>year_of_week</th>\n",
              "    </tr>\n",
              "  </thead>\n",
              "  <tbody>\n",
              "    <tr>\n",
              "      <th>0</th>\n",
              "      <td>0</td>\n",
              "      <td>2018-01-01</td>\n",
              "      <td>1</td>\n",
              "      <td>1</td>\n",
              "      <td>1</td>\n",
              "      <td>1</td>\n",
              "      <td>2018</td>\n",
              "      <td>3</td>\n",
              "      <td>1</td>\n",
              "    </tr>\n",
              "    <tr>\n",
              "      <th>1</th>\n",
              "      <td>1</td>\n",
              "      <td>2018-01-02</td>\n",
              "      <td>1</td>\n",
              "      <td>1</td>\n",
              "      <td>2</td>\n",
              "      <td>1</td>\n",
              "      <td>2018</td>\n",
              "      <td>3</td>\n",
              "      <td>1</td>\n",
              "    </tr>\n",
              "    <tr>\n",
              "      <th>2</th>\n",
              "      <td>2</td>\n",
              "      <td>2018-01-03</td>\n",
              "      <td>1</td>\n",
              "      <td>1</td>\n",
              "      <td>3</td>\n",
              "      <td>1</td>\n",
              "      <td>2018</td>\n",
              "      <td>3</td>\n",
              "      <td>1</td>\n",
              "    </tr>\n",
              "    <tr>\n",
              "      <th>3</th>\n",
              "      <td>3</td>\n",
              "      <td>2018-01-04</td>\n",
              "      <td>1</td>\n",
              "      <td>1</td>\n",
              "      <td>4</td>\n",
              "      <td>1</td>\n",
              "      <td>2018</td>\n",
              "      <td>3</td>\n",
              "      <td>1</td>\n",
              "    </tr>\n",
              "    <tr>\n",
              "      <th>4</th>\n",
              "      <td>4</td>\n",
              "      <td>2018-01-05</td>\n",
              "      <td>1</td>\n",
              "      <td>1</td>\n",
              "      <td>5</td>\n",
              "      <td>1</td>\n",
              "      <td>2018</td>\n",
              "      <td>3</td>\n",
              "      <td>1</td>\n",
              "    </tr>\n",
              "  </tbody>\n",
              "</table>\n",
              "</div>"
            ],
            "text/plain": [
              "   id        date  store  item  day  month  year  day_of_week  year_of_week\n",
              "0   0  2018-01-01      1     1    1      1  2018            3             1\n",
              "1   1  2018-01-02      1     1    2      1  2018            3             1\n",
              "2   2  2018-01-03      1     1    3      1  2018            3             1\n",
              "3   3  2018-01-04      1     1    4      1  2018            3             1\n",
              "4   4  2018-01-05      1     1    5      1  2018            3             1"
            ]
          },
          "metadata": {
            "tags": []
          },
          "execution_count": 25
        }
      ]
    },
    {
      "cell_type": "code",
      "metadata": {
        "execution": {
          "iopub.execute_input": "2021-02-26T18:17:27.515319Z",
          "iopub.status.busy": "2021-02-26T18:17:27.514688Z",
          "iopub.status.idle": "2021-02-26T18:17:27.520695Z",
          "shell.execute_reply": "2021-02-26T18:17:27.520196Z"
        },
        "papermill": {
          "duration": 0.132192,
          "end_time": "2021-02-26T18:17:27.520822",
          "exception": false,
          "start_time": "2021-02-26T18:17:27.388630",
          "status": "completed"
        },
        "tags": [],
        "id": "-Ffzv4AlqXHn"
      },
      "source": [
        "# Removendo as colunas 'id' e 'date' para entregar ao modelo\n",
        "test_df = test_df.drop(['id', 'date'], axis = 1)"
      ],
      "execution_count": 26,
      "outputs": []
    },
    {
      "cell_type": "code",
      "metadata": {
        "execution": {
          "iopub.execute_input": "2021-02-26T18:17:27.769779Z",
          "iopub.status.busy": "2021-02-26T18:17:27.769157Z",
          "iopub.status.idle": "2021-02-26T18:17:27.775053Z",
          "shell.execute_reply": "2021-02-26T18:17:27.774570Z"
        },
        "papermill": {
          "duration": 0.131973,
          "end_time": "2021-02-26T18:17:27.775167",
          "exception": false,
          "start_time": "2021-02-26T18:17:27.643194",
          "status": "completed"
        },
        "tags": [],
        "id": "KCD5OO9WqXHn",
        "colab": {
          "base_uri": "https://localhost:8080/"
        },
        "outputId": "4141c9d2-25fe-4940-a567-9daf663acc94"
      },
      "source": [
        "# Visualizando o shape da base de teste\n",
        "test_df.shape"
      ],
      "execution_count": 27,
      "outputs": [
        {
          "output_type": "execute_result",
          "data": {
            "text/plain": [
              "(45000, 7)"
            ]
          },
          "metadata": {
            "tags": []
          },
          "execution_count": 27
        }
      ]
    },
    {
      "cell_type": "code",
      "metadata": {
        "execution": {
          "iopub.execute_input": "2021-02-26T18:17:28.029010Z",
          "iopub.status.busy": "2021-02-26T18:17:28.028223Z",
          "iopub.status.idle": "2021-02-26T18:17:28.154462Z",
          "shell.execute_reply": "2021-02-26T18:17:28.153967Z"
        },
        "papermill": {
          "duration": 0.256452,
          "end_time": "2021-02-26T18:17:28.154593",
          "exception": false,
          "start_time": "2021-02-26T18:17:27.898141",
          "status": "completed"
        },
        "tags": [],
        "id": "bVGXjHfrqXHn"
      },
      "source": [
        "# Executando o modelo para predição da base de teste\n",
        "pred = cat.predict(test_df)"
      ],
      "execution_count": 28,
      "outputs": []
    },
    {
      "cell_type": "code",
      "metadata": {
        "execution": {
          "iopub.execute_input": "2021-02-26T18:17:28.407700Z",
          "iopub.status.busy": "2021-02-26T18:17:28.407075Z",
          "iopub.status.idle": "2021-02-26T18:17:28.700994Z",
          "shell.execute_reply": "2021-02-26T18:17:28.701535Z"
        },
        "papermill": {
          "duration": 0.422254,
          "end_time": "2021-02-26T18:17:28.701706",
          "exception": false,
          "start_time": "2021-02-26T18:17:28.279452",
          "status": "completed"
        },
        "tags": [],
        "id": "mSRTVS4hqXHn",
        "colab": {
          "base_uri": "https://localhost:8080/",
          "height": 204
        },
        "outputId": "a85a4a0f-747d-44af-d30a-fd6806ce6147"
      },
      "source": [
        "# Criando o arquivo com as previsões\n",
        "sample_submission['sales'] = pred\n",
        "sample_submission.to_csv(\"submission.csv\", index=False)\n",
        "sample_submission.head()"
      ],
      "execution_count": 29,
      "outputs": [
        {
          "output_type": "execute_result",
          "data": {
            "text/html": [
              "<div>\n",
              "<style scoped>\n",
              "    .dataframe tbody tr th:only-of-type {\n",
              "        vertical-align: middle;\n",
              "    }\n",
              "\n",
              "    .dataframe tbody tr th {\n",
              "        vertical-align: top;\n",
              "    }\n",
              "\n",
              "    .dataframe thead th {\n",
              "        text-align: right;\n",
              "    }\n",
              "</style>\n",
              "<table border=\"1\" class=\"dataframe\">\n",
              "  <thead>\n",
              "    <tr style=\"text-align: right;\">\n",
              "      <th></th>\n",
              "      <th>id</th>\n",
              "      <th>sales</th>\n",
              "    </tr>\n",
              "  </thead>\n",
              "  <tbody>\n",
              "    <tr>\n",
              "      <th>0</th>\n",
              "      <td>0</td>\n",
              "      <td>14.002910</td>\n",
              "    </tr>\n",
              "    <tr>\n",
              "      <th>1</th>\n",
              "      <td>1</td>\n",
              "      <td>13.535954</td>\n",
              "    </tr>\n",
              "    <tr>\n",
              "      <th>2</th>\n",
              "      <td>2</td>\n",
              "      <td>13.713279</td>\n",
              "    </tr>\n",
              "    <tr>\n",
              "      <th>3</th>\n",
              "      <td>3</td>\n",
              "      <td>13.854029</td>\n",
              "    </tr>\n",
              "    <tr>\n",
              "      <th>4</th>\n",
              "      <td>4</td>\n",
              "      <td>13.893675</td>\n",
              "    </tr>\n",
              "  </tbody>\n",
              "</table>\n",
              "</div>"
            ],
            "text/plain": [
              "   id      sales\n",
              "0   0  14.002910\n",
              "1   1  13.535954\n",
              "2   2  13.713279\n",
              "3   3  13.854029\n",
              "4   4  13.893675"
            ]
          },
          "metadata": {
            "tags": []
          },
          "execution_count": 29
        }
      ]
    },
    {
      "cell_type": "markdown",
      "metadata": {
        "id": "6mCRrDXAd0L7"
      },
      "source": [
        "## Outros testes possíveis: \r\n",
        "- Fazer normalização das variáveis\r\n",
        "- Testar outros algoritmos\r\n",
        "\r\n",
        "## Obrigado!!!"
      ]
    }
  ]
}